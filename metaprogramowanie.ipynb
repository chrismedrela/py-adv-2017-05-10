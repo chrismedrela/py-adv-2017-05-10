{
 "cells": [
  {
   "cell_type": "markdown",
   "metadata": {},
   "source": [
    "# 5. Metaprogramowanie\n",
    "\n",
    "# 5.1 Dekoratory"
   ]
  },
  {
   "cell_type": "code",
   "execution_count": 2,
   "metadata": {},
   "outputs": [
    {
     "name": "stdout",
     "output_type": "stream",
     "text": [
      "110\n",
      "105\n"
     ]
    }
   ],
   "source": [
    "def generate_adder(a):\n",
    "    def add(b):\n",
    "        return a + b\n",
    "    return add\n",
    "\n",
    "\n",
    "add_10 = generate_adder(10)\n",
    "add_5 = generate_adder(5)\n",
    "print(add_10(100))\n",
    "print(add_5(100))"
   ]
  },
  {
   "cell_type": "code",
   "execution_count": 6,
   "metadata": {
    "collapsed": true
   },
   "outputs": [],
   "source": [
    "def shouter(func):  # func == hellome\n",
    "    def wrapper():  # hellome_decorated == wrapper\n",
    "        print('before', func.__name__)\n",
    "        func()\n",
    "        print('after', func.__name__)\n",
    "    return wrapper\n",
    "\n",
    "def hellome():\n",
    "    print(\"hellome\")\n",
    "    \n",
    "hellome_decorated = shouter(hellome)"
   ]
  },
  {
   "cell_type": "code",
   "execution_count": 7,
   "metadata": {},
   "outputs": [
    {
     "name": "stdout",
     "output_type": "stream",
     "text": [
      "hellome\n"
     ]
    }
   ],
   "source": [
    "hellome()"
   ]
  },
  {
   "cell_type": "code",
   "execution_count": 8,
   "metadata": {},
   "outputs": [
    {
     "name": "stdout",
     "output_type": "stream",
     "text": [
      "before hellome\n",
      "hellome\n",
      "after hellome\n"
     ]
    }
   ],
   "source": [
    "hellome_decorated()"
   ]
  },
  {
   "cell_type": "code",
   "execution_count": 9,
   "metadata": {},
   "outputs": [
    {
     "name": "stdout",
     "output_type": "stream",
     "text": [
      "before hellome\n",
      "hellome\n",
      "after hellome\n",
      "result 42\n"
     ]
    }
   ],
   "source": [
    "def shouter(func):  # func == hellome\n",
    "    def wrapper():  # hellome_decorated == wrapper\n",
    "        print('before', func.__name__)\n",
    "        result = func()\n",
    "        print('after', func.__name__)\n",
    "        return result\n",
    "    return wrapper\n",
    "\n",
    "def hellome():\n",
    "    print(\"hellome\")\n",
    "    return 42\n",
    "    \n",
    "hellome_decorated = shouter(hellome)\n",
    "\n",
    "result = hellome_decorated()\n",
    "print('result', result)"
   ]
  },
  {
   "cell_type": "code",
   "execution_count": 15,
   "metadata": {},
   "outputs": [
    {
     "name": "stdout",
     "output_type": "stream",
     "text": [
      "before hellome\n",
      "hellome\n",
      "after hellome\n",
      "result 42\n"
     ]
    }
   ],
   "source": [
    "def shouter(func):  # func == hellome\n",
    "    def wrapper():  # hellome_decorated == wrapper\n",
    "        print('before', func.__name__)\n",
    "        result = func()\n",
    "        print('after', func.__name__)\n",
    "        return result\n",
    "    return wrapper\n",
    "\n",
    "@shouter\n",
    "def hellome():\n",
    "    print(\"hellome\")\n",
    "    return 42\n",
    "\n",
    "# hellome = shouter(hellome)\n",
    "\n",
    "result = hellome()\n",
    "print('result', result)"
   ]
  },
  {
   "cell_type": "markdown",
   "metadata": {},
   "source": [
    "**Ćwiczenie.**\n",
    "Zmień implementację dekoratora `@shouter` tak, aby działał także z funkcjami przyjmującymi argumenty."
   ]
  },
  {
   "cell_type": "code",
   "execution_count": 24,
   "metadata": {},
   "outputs": [
    {
     "name": "stdout",
     "output_type": "stream",
     "text": [
      "before hellome\n",
      "hellome\n",
      "after hellome\n",
      "result 42\n"
     ]
    }
   ],
   "source": [
    "def shouter(func):  # func == hellome\n",
    "    def wrapper(*args, **kwargs):  # hellome == wrapper\n",
    "        print('before', func.__name__)\n",
    "        result = func(*args, **kwargs)\n",
    "        print('after', func.__name__)\n",
    "        return result\n",
    "    return wrapper\n",
    "\n",
    "@shouter\n",
    "def hellome(a, b):\n",
    "    print(\"hellome\")\n",
    "    return a+b\n",
    "\n",
    "result = hellome(20, b=22)\n",
    "print('result', result)  # ==> 'result', 42"
   ]
  },
  {
   "cell_type": "code",
   "execution_count": 18,
   "metadata": {},
   "outputs": [
    {
     "name": "stdout",
     "output_type": "stream",
     "text": [
      "Exception reporting mode: Plain\n",
      "Doctest mode is: ON\n"
     ]
    }
   ],
   "source": [
    "%doctest_mode"
   ]
  },
  {
   "cell_type": "code",
   "execution_count": 33,
   "metadata": {},
   "outputs": [
    {
     "name": "stdout",
     "output_type": "stream",
     "text": [
      "before hellome\n",
      "hellome\n",
      "after hellome\n",
      "result 42\n",
      "jreha ajfkekwaf.\n"
     ]
    }
   ],
   "source": [
    "from functools import wraps\n",
    "\n",
    "def shouter(func):  # func == hellome\n",
    "    @wraps(func)\n",
    "    def wrapper(*args, **kwargs):  # hellome == wrapper\n",
    "        print('before', func.__name__)\n",
    "        result = func(*args, **kwargs)\n",
    "        print('after', func.__name__)\n",
    "        return result\n",
    "    return wrapper\n",
    "\n",
    "@shouter\n",
    "def hellome(a, b):\n",
    "    '''jreha ajfkekwaf.'''\n",
    "    print(\"hellome\")\n",
    "    return a+b\n",
    "\n",
    "result = hellome(20, b=22)\n",
    "print('result', result)  # ==> 'result', 42\n",
    "print(hellome.__doc__)"
   ]
  },
  {
   "cell_type": "code",
   "execution_count": 38,
   "metadata": {},
   "outputs": [
    {
     "name": "stdout",
     "output_type": "stream",
     "text": [
      "before hellome\n",
      "hellome\n",
      "after hellome\n",
      "result 42\n"
     ]
    }
   ],
   "source": [
    "from functools import wraps\n",
    "\n",
    "class shouter:\n",
    "    def __init__(self, func):\n",
    "        self.func = func\n",
    "        \n",
    "    def __call__(self, *args, **kwargs):\n",
    "        print('before', self.func.__name__)\n",
    "        result = self.func(*args, **kwargs)\n",
    "        print('after', self.func.__name__)\n",
    "        return result\n",
    "\n",
    "@shouter\n",
    "def hellome(a, b):\n",
    "    '''jreha ajfkekwaf.'''\n",
    "    print(\"hellome\")\n",
    "    return a+b\n",
    "\n",
    "result = hellome(20, b=22)\n",
    "print('result', result)  # ==> 'result', 42"
   ]
  },
  {
   "cell_type": "markdown",
   "metadata": {},
   "source": [
    "**Ćwiczenie.**\n",
    "Napisz dekorator `@cached`:\n",
    "1. Używając zagnieżdżonych funkcji\n",
    "2. Używając klas"
   ]
  },
  {
   "cell_type": "code",
   "execution_count": 44,
   "metadata": {},
   "outputs": [
    {
     "name": "stdout",
     "output_type": "stream",
     "text": [
      "392 ns ± 0.541 ns per loop (mean ± std. dev. of 7 runs, 1000000 loops each)\n"
     ]
    }
   ],
   "source": [
    "import functools\n",
    "\n",
    "def cached(f):\n",
    "    cache = {}\n",
    "    @functools.wraps(f)\n",
    "    def wrapper(*args):\n",
    "        try:\n",
    "            return cache[args]\n",
    "        except KeyError:\n",
    "            result = f(*args)\n",
    "            cache[args] = result\n",
    "            return result\n",
    "    return wrapper\n",
    "\n",
    "@cached\n",
    "def fib(n):\n",
    "    if n == 0:\n",
    "        return 0\n",
    "    elif n == 1:\n",
    "        return 1\n",
    "    else:\n",
    "        return fib(n-2) + fib(n-1)\n",
    "        \n",
    "%timeit fib(30)"
   ]
  },
  {
   "cell_type": "markdown",
   "metadata": {},
   "source": [
    "# 5.1.4 Dekoratory parametryzowane"
   ]
  },
  {
   "cell_type": "code",
   "execution_count": 47,
   "metadata": {},
   "outputs": [
    {
     "name": "stdout",
     "output_type": "stream",
     "text": [
      "Before blah\n",
      "hellome\n",
      "After blah\n"
     ]
    }
   ],
   "source": [
    "def parametrized_shouter(msg):\n",
    "    def shouter(func):\n",
    "        @functools.wraps(func)\n",
    "        def wrapper():\n",
    "            print('Before', msg)\n",
    "            result = func()\n",
    "            print('After', msg)\n",
    "            return result\n",
    "        return wrapper\n",
    "    return shouter\n",
    "\n",
    "@parametrized_shouter('blah')\n",
    "def hellome():\n",
    "    print('hellome')\n",
    "    \n",
    "hellome()"
   ]
  },
  {
   "cell_type": "markdown",
   "metadata": {},
   "source": [
    "**Ćwiczenie.**\n",
    "Napisz dekorator @head(n), który powoduje, że zwracane jest tylko n pierwszych kolekcji, którą zwraca dekorowana funkcja."
   ]
  },
  {
   "cell_type": "code",
   "execution_count": 57,
   "metadata": {},
   "outputs": [
    {
     "name": "stdout",
     "output_type": "stream",
     "text": [
      "start head\n",
      "end head\n",
      "QWERTY\n"
     ]
    }
   ],
   "source": [
    "def head(limit):\n",
    "    def decor(func):\n",
    "        @functools.wraps(func)\n",
    "        def wrapper(*args):\n",
    "            print('start head')\n",
    "            result = func(*args)[:limit]\n",
    "            print('end head')\n",
    "            return result\n",
    "        return wrapper\n",
    "    return decor\n",
    "\n",
    "@head(6)\n",
    "def upper(tekst):\n",
    "    return tekst.upper()\n",
    "\n",
    "print(upper('qwertyuiop'))  # ==> 'QWERTY'"
   ]
  },
  {
   "cell_type": "code",
   "execution_count": 51,
   "metadata": {},
   "outputs": [
    {
     "name": "stdout",
     "output_type": "stream",
     "text": [
      "5\n",
      "6\n",
      "7\n",
      "8\n",
      "9\n",
      "10\n",
      "11\n",
      "12\n",
      "13\n",
      "14\n"
     ]
    }
   ],
   "source": [
    "def limit(limit):\n",
    "    def decor(func):\n",
    "        @functools.wraps(func)\n",
    "        def wrapper(*args):\n",
    "            for no, i in enumerate(func(*args)):\n",
    "                if no == limit:\n",
    "                    break\n",
    "                yield i\n",
    "        return wrapper\n",
    "    return decor\n",
    "\n",
    "\n",
    "@limit(10)\n",
    "def count(start):\n",
    "    while True:\n",
    "        yield start\n",
    "        start += 1\n",
    "        \n",
    "cc = count(5)\n",
    "for _, c in zip(range(15), cc):\n",
    "    print(c)"
   ]
  },
  {
   "cell_type": "markdown",
   "metadata": {},
   "source": [
    "### Wiele dekoratorów"
   ]
  },
  {
   "cell_type": "code",
   "execution_count": 58,
   "metadata": {},
   "outputs": [
    {
     "name": "stdout",
     "output_type": "stream",
     "text": [
      "before upper\n",
      "start head\n",
      "upper\n",
      "end head\n",
      "after upper\n",
      "QWERTY\n"
     ]
    }
   ],
   "source": [
    "@shouter\n",
    "@head(6)\n",
    "def upper(text):\n",
    "    print('upper')\n",
    "    return text.upper()\n",
    "\n",
    "print(upper('qwertyuiop'))"
   ]
  },
  {
   "cell_type": "markdown",
   "metadata": {},
   "source": [
    "### Dekoratory klas"
   ]
  },
  {
   "cell_type": "code",
   "execution_count": 60,
   "metadata": {},
   "outputs": [
    {
     "name": "stdout",
     "output_type": "stream",
     "text": [
      "addID init\n",
      "Person class init\n"
     ]
    }
   ],
   "source": [
    "def addID(original_class):\n",
    "    orig_init = original_class.__init__\n",
    "    counter = 0\n",
    "    def __init__(self, *args, **kwargs):\n",
    "        nonlocal counter\n",
    "        print(\"addID init\")\n",
    "        self._id = counter\n",
    "        counter += 1\n",
    "        orig_init(self, *args, **kwargs)\n",
    "    original_class.__init__ = __init__\n",
    "    return original_class\n",
    "\n",
    "@addID\n",
    "class Person:\n",
    "    def __init__(self, name):\n",
    "        print('Person class init')\n",
    "        self._name = name\n",
    "        \n",
    "p = Person('Jan')"
   ]
  },
  {
   "cell_type": "code",
   "execution_count": 61,
   "metadata": {},
   "outputs": [
    {
     "name": "stdout",
     "output_type": "stream",
     "text": [
      "Jan\n",
      "0\n"
     ]
    }
   ],
   "source": [
    "print(p._name)\n",
    "print(p._id)"
   ]
  },
  {
   "cell_type": "code",
   "execution_count": 62,
   "metadata": {},
   "outputs": [
    {
     "name": "stdout",
     "output_type": "stream",
     "text": [
      "addID init\n",
      "Person class init\n",
      "1\n"
     ]
    }
   ],
   "source": [
    "p2 = Person('John')\n",
    "print(p2._id)"
   ]
  },
  {
   "cell_type": "markdown",
   "metadata": {},
   "source": [
    "# Zarządzanie błędami (wyjątki)"
   ]
  },
  {
   "cell_type": "code",
   "execution_count": 67,
   "metadata": {
    "collapsed": true
   },
   "outputs": [],
   "source": [
    "def do_sth_dangerous():\n",
    "    raise ValueError('msg')"
   ]
  },
  {
   "cell_type": "code",
   "execution_count": 68,
   "metadata": {},
   "outputs": [
    {
     "ename": "ValueError",
     "evalue": "msg",
     "output_type": "error",
     "traceback": [
      "Traceback \u001b[0;36m(most recent call last)\u001b[0m:\n",
      "  File \u001b[1;32m\"<ipython-input-68-fa4a3ff6b760>\"\u001b[0m, line \u001b[1;32m1\u001b[0m, in \u001b[1;35m<module>\u001b[0m\n    do_sth_dangerous()\n",
      "\u001b[0;36m  File \u001b[0;32m\"<ipython-input-67-01d2023241b3>\"\u001b[0;36m, line \u001b[0;32m2\u001b[0;36m, in \u001b[0;35mdo_sth_dangerous\u001b[0;36m\u001b[0m\n\u001b[0;31m    raise ValueError('msg')\u001b[0m\n",
      "\u001b[0;31mValueError\u001b[0m\u001b[0;31m:\u001b[0m msg\n"
     ]
    }
   ],
   "source": [
    "do_sth_dangerous()"
   ]
  },
  {
   "cell_type": "code",
   "execution_count": 73,
   "metadata": {
    "collapsed": true
   },
   "outputs": [],
   "source": [
    "def do_sth_dangerous():\n",
    "    raise ValueError"
   ]
  },
  {
   "cell_type": "code",
   "execution_count": 74,
   "metadata": {},
   "outputs": [
    {
     "ename": "ValueError",
     "evalue": "",
     "output_type": "error",
     "traceback": [
      "Traceback \u001b[0;36m(most recent call last)\u001b[0m:\n",
      "  File \u001b[1;32m\"<ipython-input-74-fa4a3ff6b760>\"\u001b[0m, line \u001b[1;32m1\u001b[0m, in \u001b[1;35m<module>\u001b[0m\n    do_sth_dangerous()\n",
      "\u001b[0;36m  File \u001b[0;32m\"<ipython-input-73-c4693b4654c8>\"\u001b[0;36m, line \u001b[0;32m2\u001b[0;36m, in \u001b[0;35mdo_sth_dangerous\u001b[0;36m\u001b[0m\n\u001b[0;31m    raise ValueError\u001b[0m\n",
      "\u001b[0;31mValueError\u001b[0m\n"
     ]
    }
   ],
   "source": [
    "do_sth_dangerous()"
   ]
  },
  {
   "cell_type": "code",
   "execution_count": 75,
   "metadata": {},
   "outputs": [
    {
     "ename": "MyErrorType",
     "evalue": "",
     "output_type": "error",
     "traceback": [
      "Traceback \u001b[0;36m(most recent call last)\u001b[0m:\n",
      "\u001b[0;36m  File \u001b[0;32m\"<ipython-input-75-1936fc950cb0>\"\u001b[0;36m, line \u001b[0;32m4\u001b[0;36m, in \u001b[0;35m<module>\u001b[0;36m\u001b[0m\n\u001b[0;31m    raise MyErrorType\u001b[0m\n",
      "\u001b[0;31mMyErrorType\u001b[0m\n"
     ]
    }
   ],
   "source": [
    "class MyErrorType(Exception):\n",
    "    pass\n",
    "\n",
    "raise MyErrorType"
   ]
  },
  {
   "cell_type": "code",
   "execution_count": 79,
   "metadata": {},
   "outputs": [
    {
     "name": "stdout",
     "output_type": "stream",
     "text": [
      "foo finished\n",
      "bar finished\n"
     ]
    }
   ],
   "source": [
    "def return_something():\n",
    "    return 42\n",
    "\n",
    "def foo():\n",
    "    return_something()\n",
    "    print('foo finished')\n",
    "    \n",
    "def bar():\n",
    "    foo()\n",
    "    print('bar finished')\n",
    "    \n",
    "bar()"
   ]
  },
  {
   "cell_type": "code",
   "execution_count": 81,
   "metadata": {},
   "outputs": [
    {
     "ename": "ValueError",
     "evalue": "",
     "output_type": "error",
     "traceback": [
      "Traceback \u001b[0;36m(most recent call last)\u001b[0m:\n",
      "  File \u001b[1;32m\"<ipython-input-81-8bc6889be5d8>\"\u001b[0m, line \u001b[1;32m12\u001b[0m, in \u001b[1;35m<module>\u001b[0m\n    bar()\n",
      "  File \u001b[1;32m\"<ipython-input-81-8bc6889be5d8>\"\u001b[0m, line \u001b[1;32m9\u001b[0m, in \u001b[1;35mbar\u001b[0m\n    foo()\n",
      "  File \u001b[1;32m\"<ipython-input-81-8bc6889be5d8>\"\u001b[0m, line \u001b[1;32m5\u001b[0m, in \u001b[1;35mfoo\u001b[0m\n    raise_something()\n",
      "\u001b[0;36m  File \u001b[0;32m\"<ipython-input-81-8bc6889be5d8>\"\u001b[0;36m, line \u001b[0;32m2\u001b[0;36m, in \u001b[0;35mraise_something\u001b[0;36m\u001b[0m\n\u001b[0;31m    raise ValueError\u001b[0m\n",
      "\u001b[0;31mValueError\u001b[0m\n"
     ]
    }
   ],
   "source": [
    "def raise_something():\n",
    "    raise ValueError\n",
    "\n",
    "def foo():\n",
    "    raise_something()\n",
    "    print('foo finished')\n",
    "    \n",
    "def bar():\n",
    "    foo()\n",
    "    print('bar finished')\n",
    "    \n",
    "bar()"
   ]
  },
  {
   "cell_type": "code",
   "execution_count": 88,
   "metadata": {},
   "outputs": [
    {
     "name": "stdout",
     "output_type": "stream",
     "text": [
      "ValueError zlapany\n",
      "finished\n"
     ]
    }
   ],
   "source": [
    "try:\n",
    "    raise_something()\n",
    "except KeyError:\n",
    "    print('KeyError zlapany!')\n",
    "except ValueError:\n",
    "    print('ValueError zlapany')\n",
    "except Exception:\n",
    "    print('Exception zlapany')\n",
    "print('finished')"
   ]
  },
  {
   "cell_type": "code",
   "execution_count": 93,
   "metadata": {},
   "outputs": [
    {
     "name": "stdout",
     "output_type": "stream",
     "text": [
      "start try\n",
      "finish try\n",
      "else\n",
      "finally\n"
     ]
    }
   ],
   "source": [
    "try:\n",
    "    print('start try')\n",
    "    pass\n",
    "    print('finish try')\n",
    "except ValueError:\n",
    "    print('except')\n",
    "else:\n",
    "    print('else')\n",
    "finally:\n",
    "    print('finally')"
   ]
  },
  {
   "cell_type": "code",
   "execution_count": 91,
   "metadata": {},
   "outputs": [
    {
     "name": "stdout",
     "output_type": "stream",
     "text": [
      "start try\n",
      "except\n",
      "finally\n"
     ]
    }
   ],
   "source": [
    "try:\n",
    "    print('start try')\n",
    "    raise_something()\n",
    "    print('finish try')\n",
    "except ValueError:\n",
    "    print('except')\n",
    "else:\n",
    "    print('else')\n",
    "finally:\n",
    "    print('finally')"
   ]
  },
  {
   "cell_type": "markdown",
   "metadata": {},
   "source": [
    "# 5.3. Menadżery kontekstu"
   ]
  },
  {
   "cell_type": "code",
   "execution_count": 100,
   "metadata": {},
   "outputs": [
    {
     "ename": "TypeError",
     "evalue": "write() argument must be str, not int",
     "output_type": "error",
     "traceback": [
      "Traceback \u001b[0;36m(most recent call last)\u001b[0m:\n",
      "\u001b[0;36m  File \u001b[0;32m\"<ipython-input-100-a54d380769ad>\"\u001b[0;36m, line \u001b[0;32m2\u001b[0;36m, in \u001b[0;35m<module>\u001b[0;36m\u001b[0m\n\u001b[0;31m    s.write(123)\u001b[0m\n",
      "\u001b[0;31mTypeError\u001b[0m\u001b[0;31m:\u001b[0m write() argument must be str, not int\n"
     ]
    }
   ],
   "source": [
    "s = open('test.txt', 'w')\n",
    "s.write(123)\n",
    "s.close()"
   ]
  },
  {
   "cell_type": "code",
   "execution_count": 101,
   "metadata": {},
   "outputs": [
    {
     "data": {
      "text/plain": [
       "False"
      ]
     },
     "execution_count": 101,
     "metadata": {},
     "output_type": "execute_result"
    }
   ],
   "source": [
    "s.closed"
   ]
  },
  {
   "cell_type": "code",
   "execution_count": 98,
   "metadata": {},
   "outputs": [
    {
     "ename": "TypeError",
     "evalue": "write() argument must be str, not int",
     "output_type": "error",
     "traceback": [
      "Traceback \u001b[0;36m(most recent call last)\u001b[0m:\n",
      "\u001b[0;36m  File \u001b[0;32m\"<ipython-input-98-a9751e704b83>\"\u001b[0;36m, line \u001b[0;32m3\u001b[0;36m, in \u001b[0;35m<module>\u001b[0;36m\u001b[0m\n\u001b[0;31m    s.write(123)\u001b[0m\n",
      "\u001b[0;31mTypeError\u001b[0m\u001b[0;31m:\u001b[0m write() argument must be str, not int\n"
     ]
    }
   ],
   "source": [
    "s = open('test.txt', 'w')\n",
    "try:\n",
    "    s.write(123)\n",
    "finally:\n",
    "    s.close()"
   ]
  },
  {
   "cell_type": "code",
   "execution_count": 99,
   "metadata": {},
   "outputs": [
    {
     "name": "stdout",
     "output_type": "stream",
     "text": [
      "True\n"
     ]
    }
   ],
   "source": [
    "s.closed"
   ]
  },
  {
   "cell_type": "code",
   "execution_count": 102,
   "metadata": {},
   "outputs": [
    {
     "ename": "TypeError",
     "evalue": "write() argument must be str, not int",
     "output_type": "error",
     "traceback": [
      "Traceback \u001b[0;36m(most recent call last)\u001b[0m:\n",
      "\u001b[0;36m  File \u001b[0;32m\"<ipython-input-102-9f1265b63a78>\"\u001b[0;36m, line \u001b[0;32m2\u001b[0;36m, in \u001b[0;35m<module>\u001b[0;36m\u001b[0m\n\u001b[0;31m    s.write(123)\u001b[0m\n",
      "\u001b[0;31mTypeError\u001b[0m\u001b[0;31m:\u001b[0m write() argument must be str, not int\n"
     ]
    }
   ],
   "source": [
    "with open('test.txt', 'w') as s:\n",
    "    s.write(123)"
   ]
  },
  {
   "cell_type": "code",
   "execution_count": 103,
   "metadata": {},
   "outputs": [
    {
     "data": {
      "text/plain": [
       "True"
      ]
     },
     "execution_count": 103,
     "metadata": {},
     "output_type": "execute_result"
    }
   ],
   "source": [
    "s.closed"
   ]
  },
  {
   "cell_type": "markdown",
   "metadata": {},
   "source": [
    "    with EXPR as VAR:\n",
    "        BLOCK\n",
    "    \n",
    "jest równoważne:\n",
    "\n",
    "    VAR = EXPR\n",
    "    VAR.__enter__()\n",
    "    try:\n",
    "        BLOCK\n",
    "    finally:\n",
    "        VAR.__exit__()"
   ]
  },
  {
   "cell_type": "code",
   "execution_count": 104,
   "metadata": {
    "collapsed": true
   },
   "outputs": [
    {
     "ename": "TypeError",
     "evalue": "write() argument must be str, not int",
     "output_type": "error",
     "traceback": [
      "Traceback \u001b[0;36m(most recent call last)\u001b[0m:\n",
      "\u001b[0;36m  File \u001b[0;32m\"<ipython-input-104-9f1265b63a78>\"\u001b[0;36m, line \u001b[0;32m2\u001b[0;36m, in \u001b[0;35m<module>\u001b[0;36m\u001b[0m\n\u001b[0;31m    s.write(123)\u001b[0m\n",
      "\u001b[0;31mTypeError\u001b[0m\u001b[0;31m:\u001b[0m write() argument must be str, not int\n"
     ]
    }
   ],
   "source": [
    "with open('test.txt', 'w') as s:\n",
    "    s.write(123)"
   ]
  },
  {
   "cell_type": "code",
   "execution_count": 105,
   "metadata": {
    "collapsed": true
   },
   "outputs": [
    {
     "ename": "TypeError",
     "evalue": "write() argument must be str, not int",
     "output_type": "error",
     "traceback": [
      "Traceback \u001b[0;36m(most recent call last)\u001b[0m:\n",
      "\u001b[0;36m  File \u001b[0;32m\"<ipython-input-105-d8266b256f0f>\"\u001b[0;36m, line \u001b[0;32m4\u001b[0;36m, in \u001b[0;35m<module>\u001b[0;36m\u001b[0m\n\u001b[0;31m    s.write(123)\u001b[0m\n",
      "\u001b[0;31mTypeError\u001b[0m\u001b[0;31m:\u001b[0m write() argument must be str, not int\n"
     ]
    }
   ],
   "source": [
    "s = open('test.txt', 'w')\n",
    "s.__enter__()\n",
    "try:\n",
    "    s.write(123)\n",
    "finally:\n",
    "    s.__exit__()"
   ]
  },
  {
   "cell_type": "code",
   "execution_count": 106,
   "metadata": {},
   "outputs": [
    {
     "data": {
      "text/plain": [
       "True"
      ]
     },
     "execution_count": 106,
     "metadata": {},
     "output_type": "execute_result"
    }
   ],
   "source": [
    "s.closed"
   ]
  },
  {
   "cell_type": "code",
   "execution_count": 114,
   "metadata": {
    "collapsed": true
   },
   "outputs": [],
   "source": [
    "class Context:\n",
    "    def __init__(self):\n",
    "        print('init')\n",
    "        \n",
    "    def __enter__(self):\n",
    "        print('enter')\n",
    "        return self\n",
    "    \n",
    "    def __exit__(self, exc_type, exc_val, exc_tb):\n",
    "        print('exit')\n",
    "        print('  exc_type =', exc_type)\n",
    "        print('  exc_val =', exc_val)\n",
    "        print('  exc_tb =', exc_tb)\n",
    "        "
   ]
  },
  {
   "cell_type": "code",
   "execution_count": 115,
   "metadata": {},
   "outputs": [
    {
     "name": "stdout",
     "output_type": "stream",
     "text": [
      "init\n",
      "enter\n",
      "inside with\n",
      "exit\n",
      "  exc_type = None\n",
      "  exc_val = None\n",
      "  exc_tb = None\n"
     ]
    }
   ],
   "source": [
    "with Context():\n",
    "    print('inside with')"
   ]
  },
  {
   "cell_type": "code",
   "execution_count": 116,
   "metadata": {},
   "outputs": [
    {
     "name": "stdout",
     "output_type": "stream",
     "text": [
      "init\n",
      "enter\n",
      "start with\n",
      "exit\n",
      "  exc_type = <class 'ValueError'>\n",
      "  exc_val = \n",
      "  exc_tb = <traceback object at 0x7fbc60048e08>\n"
     ]
    },
    {
     "ename": "ValueError",
     "evalue": "",
     "output_type": "error",
     "traceback": [
      "Traceback \u001b[0;36m(most recent call last)\u001b[0m:\n",
      "  File \u001b[1;32m\"<ipython-input-116-731ad7f68a1e>\"\u001b[0m, line \u001b[1;32m3\u001b[0m, in \u001b[1;35m<module>\u001b[0m\n    raise_something()\n",
      "\u001b[0;36m  File \u001b[0;32m\"<ipython-input-81-8bc6889be5d8>\"\u001b[0;36m, line \u001b[0;32m2\u001b[0;36m, in \u001b[0;35mraise_something\u001b[0;36m\u001b[0m\n\u001b[0;31m    raise ValueError\u001b[0m\n",
      "\u001b[0;31mValueError\u001b[0m\n"
     ]
    }
   ],
   "source": [
    "with Context():\n",
    "    print('start with')\n",
    "    raise_something()\n",
    "    print('finish with')\n",
    "print('outside with')"
   ]
  },
  {
   "cell_type": "markdown",
   "metadata": {},
   "source": [
    "**Ćwiczenie.**"
   ]
  },
  {
   "cell_type": "code",
   "execution_count": 2,
   "metadata": {},
   "outputs": [],
   "source": [
    "import sys\n",
    "\n",
    "def blackwhole(*args):\n",
    "    pass\n",
    "\n",
    "class SuppressOutput:\n",
    "    def __enter__(self):\n",
    "        self.original_write, sys.stdout.write = \\\n",
    "            sys.stdout.write, blackwhole\n",
    "    \n",
    "    def __exit__(self, _1, _2, _3):\n",
    "        sys.stdout.write = self.original_write\n"
   ]
  },
  {
   "cell_type": "code",
   "execution_count": 3,
   "metadata": {},
   "outputs": [
    {
     "name": "stdout",
     "output_type": "stream",
     "text": [
      "before\n",
      "after\n"
     ]
    }
   ],
   "source": [
    "sys.stdout.write('before\\n')\n",
    "with SuppressOutput():\n",
    "    sys.stdout.write('in\\n')\n",
    "sys.stdout.write('after\\n')"
   ]
  },
  {
   "cell_type": "code",
   "execution_count": 4,
   "metadata": {},
   "outputs": [
    {
     "name": "stdout",
     "output_type": "stream",
     "text": [
      "before\n",
      "after\n"
     ]
    }
   ],
   "source": [
    "sys.stdout.write('before\\n')\n",
    "VAR = SuppressOutput()\n",
    "VAR.__enter__()\n",
    "try:\n",
    "    sys.stdout.write('in\\n')\n",
    "finally:\n",
    "    VAR.__exit__(None, None, None)\n",
    "sys.stdout.write('after\\n')"
   ]
  },
  {
   "cell_type": "code",
   "execution_count": 5,
   "metadata": {
    "collapsed": true
   },
   "outputs": [],
   "source": [
    "import sys\n",
    "\n",
    "def blackwhole(*args):\n",
    "    pass\n",
    "\n",
    "# original_write, sys.stdout.write = sys.stdout.write, blackwhole"
   ]
  },
  {
   "cell_type": "markdown",
   "metadata": {},
   "source": [
    "## 5.3.4 `contextlib.contextmanager`"
   ]
  },
  {
   "cell_type": "code",
   "execution_count": 6,
   "metadata": {
    "collapsed": true
   },
   "outputs": [],
   "source": [
    "from contextlib import contextmanager"
   ]
  },
  {
   "cell_type": "code",
   "execution_count": 7,
   "metadata": {},
   "outputs": [
    {
     "name": "stdout",
     "output_type": "stream",
     "text": [
      "before\n",
      "inside\n",
      "after\n"
     ]
    }
   ],
   "source": [
    "@contextmanager\n",
    "def shouter():\n",
    "    print('before')  # __enter__\n",
    "    yield\n",
    "    print('after')  # __exit__\n",
    "    \n",
    "with shouter():\n",
    "    print('inside')"
   ]
  },
  {
   "cell_type": "code",
   "execution_count": null,
   "metadata": {
    "collapsed": true
   },
   "outputs": [],
   "source": [
    "\n",
    "\n",
    "sys.stdout.write('before\\n')\n",
    "with suppress_output():\n",
    "    sys.stdout.write('in\\n')\n",
    "sys.stdout.write('after\\n')"
   ]
  }
 ],
 "metadata": {
  "kernelspec": {
   "display_name": "Python 3",
   "language": "python",
   "name": "python3"
  }
 },
 "nbformat": 4,
 "nbformat_minor": 2
}
