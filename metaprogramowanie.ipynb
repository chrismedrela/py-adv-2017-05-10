{
 "cells": [
  {
   "cell_type": "markdown",
   "metadata": {},
   "source": [
    "# 5. Metaprogramowanie\n",
    "\n",
    "# 5.1 Dekoratory"
   ]
  },
  {
   "cell_type": "code",
   "execution_count": 2,
   "metadata": {},
   "outputs": [
    {
     "name": "stdout",
     "output_type": "stream",
     "text": [
      "110\n",
      "105\n"
     ]
    }
   ],
   "source": [
    "def generate_adder(a):\n",
    "    def add(b):\n",
    "        return a + b\n",
    "    return add\n",
    "\n",
    "\n",
    "add_10 = generate_adder(10)\n",
    "add_5 = generate_adder(5)\n",
    "print(add_10(100))\n",
    "print(add_5(100))"
   ]
  },
  {
   "cell_type": "code",
   "execution_count": 6,
   "metadata": {
    "collapsed": true
   },
   "outputs": [],
   "source": [
    "def shouter(func):  # func == hellome\n",
    "    def wrapper():  # hellome_decorated == wrapper\n",
    "        print('before', func.__name__)\n",
    "        func()\n",
    "        print('after', func.__name__)\n",
    "    return wrapper\n",
    "\n",
    "def hellome():\n",
    "    print(\"hellome\")\n",
    "    \n",
    "hellome_decorated = shouter(hellome)"
   ]
  },
  {
   "cell_type": "code",
   "execution_count": 7,
   "metadata": {},
   "outputs": [
    {
     "name": "stdout",
     "output_type": "stream",
     "text": [
      "hellome\n"
     ]
    }
   ],
   "source": [
    "hellome()"
   ]
  },
  {
   "cell_type": "code",
   "execution_count": 8,
   "metadata": {},
   "outputs": [
    {
     "name": "stdout",
     "output_type": "stream",
     "text": [
      "before hellome\n",
      "hellome\n",
      "after hellome\n"
     ]
    }
   ],
   "source": [
    "hellome_decorated()"
   ]
  },
  {
   "cell_type": "code",
   "execution_count": 9,
   "metadata": {},
   "outputs": [
    {
     "name": "stdout",
     "output_type": "stream",
     "text": [
      "before hellome\n",
      "hellome\n",
      "after hellome\n",
      "result 42\n"
     ]
    }
   ],
   "source": [
    "def shouter(func):  # func == hellome\n",
    "    def wrapper():  # hellome_decorated == wrapper\n",
    "        print('before', func.__name__)\n",
    "        result = func()\n",
    "        print('after', func.__name__)\n",
    "        return result\n",
    "    return wrapper\n",
    "\n",
    "def hellome():\n",
    "    print(\"hellome\")\n",
    "    return 42\n",
    "    \n",
    "hellome_decorated = shouter(hellome)\n",
    "\n",
    "result = hellome_decorated()\n",
    "print('result', result)"
   ]
  },
  {
   "cell_type": "code",
   "execution_count": 15,
   "metadata": {},
   "outputs": [
    {
     "name": "stdout",
     "output_type": "stream",
     "text": [
      "before hellome\n",
      "hellome\n",
      "after hellome\n",
      "result 42\n"
     ]
    }
   ],
   "source": [
    "def shouter(func):  # func == hellome\n",
    "    def wrapper():  # hellome_decorated == wrapper\n",
    "        print('before', func.__name__)\n",
    "        result = func()\n",
    "        print('after', func.__name__)\n",
    "        return result\n",
    "    return wrapper\n",
    "\n",
    "@shouter\n",
    "def hellome():\n",
    "    print(\"hellome\")\n",
    "    return 42\n",
    "\n",
    "# hellome = shouter(hellome)\n",
    "\n",
    "result = hellome()\n",
    "print('result', result)"
   ]
  },
  {
   "cell_type": "markdown",
   "metadata": {},
   "source": [
    "**Ćwiczenie.**\n",
    "Zmień implementację dekoratora `@shouter` tak, aby działał także z funkcjami przyjmującymi argumenty."
   ]
  },
  {
   "cell_type": "code",
   "execution_count": 24,
   "metadata": {},
   "outputs": [
    {
     "name": "stdout",
     "output_type": "stream",
     "text": [
      "before hellome\n",
      "hellome\n",
      "after hellome\n",
      "result 42\n"
     ]
    }
   ],
   "source": [
    "def shouter(func):  # func == hellome\n",
    "    def wrapper(*args, **kwargs):  # hellome == wrapper\n",
    "        print('before', func.__name__)\n",
    "        result = func(*args, **kwargs)\n",
    "        print('after', func.__name__)\n",
    "        return result\n",
    "    return wrapper\n",
    "\n",
    "@shouter\n",
    "def hellome(a, b):\n",
    "    print(\"hellome\")\n",
    "    return a+b\n",
    "\n",
    "result = hellome(20, b=22)\n",
    "print('result', result)  # ==> 'result', 42"
   ]
  },
  {
   "cell_type": "code",
   "execution_count": 18,
   "metadata": {},
   "outputs": [
    {
     "name": "stdout",
     "output_type": "stream",
     "text": [
      "Exception reporting mode: Plain\n",
      "Doctest mode is: ON\n"
     ]
    }
   ],
   "source": [
    "%doctest_mode"
   ]
  },
  {
   "cell_type": "code",
   "execution_count": 33,
   "metadata": {},
   "outputs": [
    {
     "name": "stdout",
     "output_type": "stream",
     "text": [
      "before hellome\n",
      "hellome\n",
      "after hellome\n",
      "result 42\n",
      "jreha ajfkekwaf.\n"
     ]
    }
   ],
   "source": [
    "from functools import wraps\n",
    "\n",
    "def shouter(func):  # func == hellome\n",
    "    @wraps(func)\n",
    "    def wrapper(*args, **kwargs):  # hellome == wrapper\n",
    "        print('before', func.__name__)\n",
    "        result = func(*args, **kwargs)\n",
    "        print('after', func.__name__)\n",
    "        return result\n",
    "    return wrapper\n",
    "\n",
    "@shouter\n",
    "def hellome(a, b):\n",
    "    '''jreha ajfkekwaf.'''\n",
    "    print(\"hellome\")\n",
    "    return a+b\n",
    "\n",
    "result = hellome(20, b=22)\n",
    "print('result', result)  # ==> 'result', 42\n",
    "print(hellome.__doc__)"
   ]
  },
  {
   "cell_type": "code",
   "execution_count": 38,
   "metadata": {},
   "outputs": [
    {
     "name": "stdout",
     "output_type": "stream",
     "text": [
      "before hellome\n",
      "hellome\n",
      "after hellome\n",
      "result 42\n"
     ]
    }
   ],
   "source": [
    "from functools import wraps\n",
    "\n",
    "class shouter:\n",
    "    def __init__(self, func):\n",
    "        self.func = func\n",
    "        \n",
    "    def __call__(self, *args, **kwargs):\n",
    "        print('before', self.func.__name__)\n",
    "        result = self.func(*args, **kwargs)\n",
    "        print('after', self.func.__name__)\n",
    "        return result\n",
    "\n",
    "@shouter\n",
    "def hellome(a, b):\n",
    "    '''jreha ajfkekwaf.'''\n",
    "    print(\"hellome\")\n",
    "    return a+b\n",
    "\n",
    "result = hellome(20, b=22)\n",
    "print('result', result)  # ==> 'result', 42"
   ]
  },
  {
   "cell_type": "markdown",
   "metadata": {},
   "source": [
    "**Ćwiczenie.**\n",
    "Napisz dekorator `@cached`:\n",
    "1. Używając zagnieżdżonych funkcji\n",
    "2. Używając klas"
   ]
  },
  {
   "cell_type": "code",
   "execution_count": 44,
   "metadata": {},
   "outputs": [
    {
     "name": "stdout",
     "output_type": "stream",
     "text": [
      "392 ns ± 0.541 ns per loop (mean ± std. dev. of 7 runs, 1000000 loops each)\n"
     ]
    }
   ],
   "source": [
    "import functools\n",
    "\n",
    "def cached(f):\n",
    "    cache = {}\n",
    "    @functools.wraps(f)\n",
    "    def wrapper(*args):\n",
    "        try:\n",
    "            return cache[args]\n",
    "        except KeyError:\n",
    "            result = f(*args)\n",
    "            cache[args] = result\n",
    "            return result\n",
    "    return wrapper\n",
    "\n",
    "@cached\n",
    "def fib(n):\n",
    "    if n == 0:\n",
    "        return 0\n",
    "    elif n == 1:\n",
    "        return 1\n",
    "    else:\n",
    "        return fib(n-2) + fib(n-1)\n",
    "        \n",
    "%timeit fib(30)"
   ]
  },
  {
   "cell_type": "markdown",
   "metadata": {},
   "source": [
    "# 5.1.4 Dekoratory parametryzowane"
   ]
  },
  {
   "cell_type": "code",
   "execution_count": 47,
   "metadata": {},
   "outputs": [
    {
     "name": "stdout",
     "output_type": "stream",
     "text": [
      "Before blah\n",
      "hellome\n",
      "After blah\n"
     ]
    }
   ],
   "source": [
    "def parametrized_shouter(msg):\n",
    "    def shouter(func):\n",
    "        @functools.wraps(func)\n",
    "        def wrapper():\n",
    "            print('Before', msg)\n",
    "            result = func()\n",
    "            print('After', msg)\n",
    "            return result\n",
    "        return wrapper\n",
    "    return shouter\n",
    "\n",
    "@parametrized_shouter('blah')\n",
    "def hellome():\n",
    "    print('hellome')\n",
    "    \n",
    "hellome()"
   ]
  },
  {
   "cell_type": "markdown",
   "metadata": {},
   "source": [
    "**Ćwiczenie.**\n",
    "Napisz dekorator @head(n), który powoduje, że zwracane jest tylko n pierwszych kolekcji, którą zwraca dekorowana funkcja."
   ]
  },
  {
   "cell_type": "code",
   "execution_count": 57,
   "metadata": {},
   "outputs": [
    {
     "name": "stdout",
     "output_type": "stream",
     "text": [
      "start head\n",
      "end head\n",
      "QWERTY\n"
     ]
    }
   ],
   "source": [
    "def head(limit):\n",
    "    def decor(func):\n",
    "        @functools.wraps(func)\n",
    "        def wrapper(*args):\n",
    "            print('start head')\n",
    "            result = func(*args)[:limit]\n",
    "            print('end head')\n",
    "            return result\n",
    "        return wrapper\n",
    "    return decor\n",
    "\n",
    "@head(6)\n",
    "def upper(tekst):\n",
    "    return tekst.upper()\n",
    "\n",
    "print(upper('qwertyuiop'))  # ==> 'QWERTY'"
   ]
  },
  {
   "cell_type": "code",
   "execution_count": 51,
   "metadata": {},
   "outputs": [
    {
     "name": "stdout",
     "output_type": "stream",
     "text": [
      "5\n",
      "6\n",
      "7\n",
      "8\n",
      "9\n",
      "10\n",
      "11\n",
      "12\n",
      "13\n",
      "14\n"
     ]
    }
   ],
   "source": [
    "def limit(limit):\n",
    "    def decor(func):\n",
    "        @functools.wraps(func)\n",
    "        def wrapper(*args):\n",
    "            for no, i in enumerate(func(*args)):\n",
    "                if no == limit:\n",
    "                    break\n",
    "                yield i\n",
    "        return wrapper\n",
    "    return decor\n",
    "\n",
    "\n",
    "@limit(10)\n",
    "def count(start):\n",
    "    while True:\n",
    "        yield start\n",
    "        start += 1\n",
    "        \n",
    "cc = count(5)\n",
    "for _, c in zip(range(15), cc):\n",
    "    print(c)"
   ]
  },
  {
   "cell_type": "markdown",
   "metadata": {},
   "source": [
    "### Wiele dekoratorów"
   ]
  },
  {
   "cell_type": "code",
   "execution_count": 58,
   "metadata": {},
   "outputs": [
    {
     "name": "stdout",
     "output_type": "stream",
     "text": [
      "before upper\n",
      "start head\n",
      "upper\n",
      "end head\n",
      "after upper\n",
      "QWERTY\n"
     ]
    }
   ],
   "source": [
    "@shouter\n",
    "@head(6)\n",
    "def upper(text):\n",
    "    print('upper')\n",
    "    return text.upper()\n",
    "\n",
    "print(upper('qwertyuiop'))"
   ]
  },
  {
   "cell_type": "markdown",
   "metadata": {},
   "source": [
    "### Dekoratory klas"
   ]
  },
  {
   "cell_type": "code",
   "execution_count": 60,
   "metadata": {},
   "outputs": [
    {
     "name": "stdout",
     "output_type": "stream",
     "text": [
      "addID init\n",
      "Person class init\n"
     ]
    }
   ],
   "source": [
    "def addID(original_class):\n",
    "    orig_init = original_class.__init__\n",
    "    counter = 0\n",
    "    def __init__(self, *args, **kwargs):\n",
    "        nonlocal counter\n",
    "        print(\"addID init\")\n",
    "        self._id = counter\n",
    "        counter += 1\n",
    "        orig_init(self, *args, **kwargs)\n",
    "    original_class.__init__ = __init__\n",
    "    return original_class\n",
    "\n",
    "@addID\n",
    "class Person:\n",
    "    def __init__(self, name):\n",
    "        print('Person class init')\n",
    "        self._name = name\n",
    "        \n",
    "p = Person('Jan')"
   ]
  },
  {
   "cell_type": "code",
   "execution_count": 61,
   "metadata": {},
   "outputs": [
    {
     "name": "stdout",
     "output_type": "stream",
     "text": [
      "Jan\n",
      "0\n"
     ]
    }
   ],
   "source": [
    "print(p._name)\n",
    "print(p._id)"
   ]
  },
  {
   "cell_type": "code",
   "execution_count": 62,
   "metadata": {},
   "outputs": [
    {
     "name": "stdout",
     "output_type": "stream",
     "text": [
      "addID init\n",
      "Person class init\n",
      "1\n"
     ]
    }
   ],
   "source": [
    "p2 = Person('John')\n",
    "print(p2._id)"
   ]
  },
  {
   "cell_type": "code",
   "execution_count": null,
   "metadata": {
    "collapsed": true
   },
   "outputs": [],
   "source": []
  }
 ],
 "metadata": {
  "kernelspec": {
   "display_name": "Python 3",
   "language": "python",
   "name": "python3"
  },
  "language_info": {
   "codemirror_mode": {
    "name": "ipython",
    "version": 3
   },
   "file_extension": ".py",
   "mimetype": "text/x-python",
   "name": "python",
   "nbconvert_exporter": "python",
   "pygments_lexer": "ipython3",
   "version": "3.5.2+"
  }
 },
 "nbformat": 4,
 "nbformat_minor": 2
}
