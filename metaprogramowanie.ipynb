{
 "cells": [
  {
   "cell_type": "markdown",
   "metadata": {},
   "source": [
    "# 5. Metaprogramowanie\n",
    "\n",
    "# 5.1 Dekoratory"
   ]
  },
  {
   "cell_type": "code",
   "execution_count": 2,
   "metadata": {},
   "outputs": [
    {
     "name": "stdout",
     "output_type": "stream",
     "text": [
      "110\n",
      "105\n"
     ]
    }
   ],
   "source": [
    "def generate_adder(a):\n",
    "    def add(b):\n",
    "        return a + b\n",
    "    return add\n",
    "\n",
    "\n",
    "add_10 = generate_adder(10)\n",
    "add_5 = generate_adder(5)\n",
    "print(add_10(100))\n",
    "print(add_5(100))"
   ]
  },
  {
   "cell_type": "code",
   "execution_count": 6,
   "metadata": {
    "collapsed": true
   },
   "outputs": [],
   "source": [
    "def shouter(func):  # func == hellome\n",
    "    def wrapper():  # hellome_decorated == wrapper\n",
    "        print('before', func.__name__)\n",
    "        func()\n",
    "        print('after', func.__name__)\n",
    "    return wrapper\n",
    "\n",
    "def hellome():\n",
    "    print(\"hellome\")\n",
    "    \n",
    "hellome_decorated = shouter(hellome)"
   ]
  },
  {
   "cell_type": "code",
   "execution_count": 7,
   "metadata": {},
   "outputs": [
    {
     "name": "stdout",
     "output_type": "stream",
     "text": [
      "hellome\n"
     ]
    }
   ],
   "source": [
    "hellome()"
   ]
  },
  {
   "cell_type": "code",
   "execution_count": 8,
   "metadata": {},
   "outputs": [
    {
     "name": "stdout",
     "output_type": "stream",
     "text": [
      "before hellome\n",
      "hellome\n",
      "after hellome\n"
     ]
    }
   ],
   "source": [
    "hellome_decorated()"
   ]
  },
  {
   "cell_type": "code",
   "execution_count": 9,
   "metadata": {},
   "outputs": [
    {
     "name": "stdout",
     "output_type": "stream",
     "text": [
      "before hellome\n",
      "hellome\n",
      "after hellome\n",
      "result 42\n"
     ]
    }
   ],
   "source": [
    "def shouter(func):  # func == hellome\n",
    "    def wrapper():  # hellome_decorated == wrapper\n",
    "        print('before', func.__name__)\n",
    "        result = func()\n",
    "        print('after', func.__name__)\n",
    "        return result\n",
    "    return wrapper\n",
    "\n",
    "def hellome():\n",
    "    print(\"hellome\")\n",
    "    return 42\n",
    "    \n",
    "hellome_decorated = shouter(hellome)\n",
    "\n",
    "result = hellome_decorated()\n",
    "print('result', result)"
   ]
  },
  {
   "cell_type": "code",
   "execution_count": 15,
   "metadata": {},
   "outputs": [
    {
     "name": "stdout",
     "output_type": "stream",
     "text": [
      "before hellome\n",
      "hellome\n",
      "after hellome\n",
      "result 42\n"
     ]
    }
   ],
   "source": [
    "def shouter(func):  # func == hellome\n",
    "    def wrapper():  # hellome_decorated == wrapper\n",
    "        print('before', func.__name__)\n",
    "        result = func()\n",
    "        print('after', func.__name__)\n",
    "        return result\n",
    "    return wrapper\n",
    "\n",
    "@shouter\n",
    "def hellome():\n",
    "    print(\"hellome\")\n",
    "    return 42\n",
    "\n",
    "# hellome = shouter(hellome)\n",
    "\n",
    "result = hellome()\n",
    "print('result', result)"
   ]
  },
  {
   "cell_type": "markdown",
   "metadata": {},
   "source": [
    "**Ćwiczenie.**\n",
    "Zmień implementację dekoratora `@shouter` tak, aby działał także z funkcjami przyjmującymi argumenty."
   ]
  },
  {
   "cell_type": "code",
   "execution_count": 24,
   "metadata": {},
   "outputs": [
    {
     "name": "stdout",
     "output_type": "stream",
     "text": [
      "before hellome\n",
      "hellome\n",
      "after hellome\n",
      "result 42\n"
     ]
    }
   ],
   "source": [
    "def shouter(func):  # func == hellome\n",
    "    def wrapper(*args, **kwargs):  # hellome == wrapper\n",
    "        print('before', func.__name__)\n",
    "        result = func(*args, **kwargs)\n",
    "        print('after', func.__name__)\n",
    "        return result\n",
    "    return wrapper\n",
    "\n",
    "@shouter\n",
    "def hellome(a, b):\n",
    "    print(\"hellome\")\n",
    "    return a+b\n",
    "\n",
    "result = hellome(20, b=22)\n",
    "print('result', result)  # ==> 'result', 42"
   ]
  },
  {
   "cell_type": "code",
   "execution_count": 18,
   "metadata": {},
   "outputs": [
    {
     "name": "stdout",
     "output_type": "stream",
     "text": [
      "Exception reporting mode: Plain\n",
      "Doctest mode is: ON\n"
     ]
    }
   ],
   "source": [
    "%doctest_mode"
   ]
  },
  {
   "cell_type": "code",
   "execution_count": 33,
   "metadata": {},
   "outputs": [
    {
     "name": "stdout",
     "output_type": "stream",
     "text": [
      "before hellome\n",
      "hellome\n",
      "after hellome\n",
      "result 42\n",
      "jreha ajfkekwaf.\n"
     ]
    }
   ],
   "source": [
    "from functools import wraps\n",
    "\n",
    "def shouter(func):  # func == hellome\n",
    "    @wraps(func)\n",
    "    def wrapper(*args, **kwargs):  # hellome == wrapper\n",
    "        print('before', func.__name__)\n",
    "        result = func(*args, **kwargs)\n",
    "        print('after', func.__name__)\n",
    "        return result\n",
    "    return wrapper\n",
    "\n",
    "@shouter\n",
    "def hellome(a, b):\n",
    "    '''jreha ajfkekwaf.'''\n",
    "    print(\"hellome\")\n",
    "    return a+b\n",
    "\n",
    "result = hellome(20, b=22)\n",
    "print('result', result)  # ==> 'result', 42\n",
    "print(hellome.__doc__)"
   ]
  },
  {
   "cell_type": "code",
   "execution_count": 36,
   "metadata": {},
   "outputs": [
    {
     "ename": "SyntaxError",
     "evalue": "invalid syntax (<ipython-input-36-69e92b491573>, line 4)",
     "output_type": "error",
     "traceback": [
      "\u001b[0;36m  File \u001b[0;32m\"<ipython-input-36-69e92b491573>\"\u001b[0;36m, line \u001b[0;32m4\u001b[0m\n\u001b[0;31m    def __init__(?):\u001b[0m\n\u001b[0m                 ^\u001b[0m\n\u001b[0;31mSyntaxError\u001b[0m\u001b[0;31m:\u001b[0m invalid syntax\n"
     ]
    }
   ],
   "source": [
    "from functools import wraps\n",
    "\n",
    "class shouter:\n",
    "    def __init__(?):\n",
    "        ?\n",
    "        \n",
    "    def __call__(?):\n",
    "        ?\n",
    "\n",
    "@shouter\n",
    "def hellome(a, b):\n",
    "    '''jreha ajfkekwaf.'''\n",
    "    print(\"hellome\")\n",
    "    return a+b\n",
    "\n",
    "result = hellome(20, b=22)\n",
    "print('result', result)  # ==> 'result', 42"
   ]
  },
  {
   "cell_type": "code",
   "execution_count": null,
   "metadata": {
    "collapsed": true
   },
   "outputs": [],
   "source": []
  }
 ],
 "metadata": {
  "kernelspec": {
   "display_name": "Python 3",
   "language": "python",
   "name": "python3"
  },
  "language_info": {
   "codemirror_mode": {
    "name": "ipython",
    "version": 3
   },
   "file_extension": ".py",
   "mimetype": "text/x-python",
   "name": "python",
   "nbconvert_exporter": "python",
   "pygments_lexer": "ipython3",
   "version": "3.5.2+"
  }
 },
 "nbformat": 4,
 "nbformat_minor": 2
}
