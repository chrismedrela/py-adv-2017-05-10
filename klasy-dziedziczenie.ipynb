{
 "cells": [
  {
   "cell_type": "code",
   "execution_count": 17,
   "metadata": {
    "collapsed": true
   },
   "outputs": [],
   "source": [
    "class Base:\n",
    "    def base_method(self):\n",
    "        print('base')\n",
    "    \n",
    "class Derived(Base):\n",
    "    def derived_method(self):\n",
    "        print('derived')"
   ]
  },
  {
   "cell_type": "code",
   "execution_count": 35,
   "metadata": {},
   "outputs": [
    {
     "name": "stdout",
     "output_type": "stream",
     "text": [
      "derived\n",
      "base\n"
     ]
    }
   ],
   "source": [
    "d = Derived()\n",
    "d.derived_method()\n",
    "d.base_method()"
   ]
  },
  {
   "cell_type": "code",
   "execution_count": 37,
   "metadata": {},
   "outputs": [
    {
     "data": {
      "text/plain": [
       "{}"
      ]
     },
     "execution_count": 37,
     "metadata": {},
     "output_type": "execute_result"
    }
   ],
   "source": [
    "d.__dict__"
   ]
  },
  {
   "cell_type": "code",
   "execution_count": 39,
   "metadata": {},
   "outputs": [
    {
     "data": {
      "text/plain": [
       "mappingproxy({'__doc__': None,\n",
       "              '__module__': '__main__',\n",
       "              'derived_method': <function __main__.Derived.derived_method>})"
      ]
     },
     "execution_count": 39,
     "metadata": {},
     "output_type": "execute_result"
    }
   ],
   "source": [
    "Derived.__dict__"
   ]
  },
  {
   "cell_type": "code",
   "execution_count": 40,
   "metadata": {},
   "outputs": [
    {
     "data": {
      "text/plain": [
       "mappingproxy({'__dict__': <attribute '__dict__' of 'Base' objects>,\n",
       "              '__doc__': None,\n",
       "              '__module__': '__main__',\n",
       "              '__weakref__': <attribute '__weakref__' of 'Base' objects>,\n",
       "              'base_method': <function __main__.Base.base_method>})"
      ]
     },
     "execution_count": 40,
     "metadata": {},
     "output_type": "execute_result"
    }
   ],
   "source": [
    "Base.__dict__"
   ]
  },
  {
   "cell_type": "code",
   "execution_count": 19,
   "metadata": {},
   "outputs": [
    {
     "data": {
      "text/plain": [
       "(__main__.Derived, __main__.Base, object)"
      ]
     },
     "execution_count": 19,
     "metadata": {},
     "output_type": "execute_result"
    }
   ],
   "source": [
    "Derived.__mro__"
   ]
  },
  {
   "cell_type": "code",
   "execution_count": 30,
   "metadata": {},
   "outputs": [
    {
     "name": "stdout",
     "output_type": "stream",
     "text": [
      "3 4 5\n"
     ]
    }
   ],
   "source": [
    "class Point2D:\n",
    "    def __init__(self, x, y):\n",
    "        self.x = x\n",
    "        self.y = y\n",
    "        \n",
    "class Point3D(Point2D):\n",
    "    def __init__(self, x, y, z):\n",
    "        # Point2D.__init__(self, x, y)\n",
    "        # super(Point3D, self).__init__(x, y)  # Python 2\n",
    "        super().__init__(x, y)\n",
    "        self.z = z\n",
    "        \n",
    "p = Point3D(3, 4, z=5)\n",
    "print(p.x, p.y, p.z)"
   ]
  },
  {
   "cell_type": "code",
   "execution_count": 34,
   "metadata": {},
   "outputs": [
    {
     "name": "stdout",
     "output_type": "stream",
     "text": [
      "3 4 5\n"
     ]
    }
   ],
   "source": [
    "class Point2D:\n",
    "    def __init__(self, x, y):\n",
    "        self.x = x\n",
    "        self.y = y\n",
    "        \n",
    "class Point3D(Point2D):\n",
    "    def __init__(self, *args):\n",
    "        # Point2D.__init__(self, x, y)\n",
    "        # super(Point3D, self).__init__(x, y)  # Python 2\n",
    "        super().__init__(*args[:-1])\n",
    "        self.z = args[-1]\n",
    "        \n",
    "p = Point3D(3, 4, 5)\n",
    "print(p.x, p.y, p.z)"
   ]
  },
  {
   "cell_type": "code",
   "execution_count": 41,
   "metadata": {},
   "outputs": [
    {
     "name": "stdout",
     "output_type": "stream",
     "text": [
      "2\n",
      "0\n"
     ]
    }
   ],
   "source": [
    "class CountDict(dict):\n",
    "    def __getitem__(self, key):\n",
    "        if key in self:\n",
    "            return super().__getitem__(key)\n",
    "        else:\n",
    "            return 0\n",
    "        \n",
    "d = CountDict()\n",
    "d['a'] = 2\n",
    "print(d['a'])\n",
    "print(d['non-existent'])"
   ]
  },
  {
   "cell_type": "code",
   "execution_count": 46,
   "metadata": {},
   "outputs": [
    {
     "name": "stdout",
     "output_type": "stream",
     "text": [
      "[2, 3]\n",
      "{'a': [2, 3]}\n",
      "[]\n",
      "{'b': [], 'a': [2, 3]}\n",
      "[3]\n"
     ]
    }
   ],
   "source": [
    "class DefaultDict(dict):\n",
    "    def __init__(self, empty_fun):\n",
    "        self._empty_fun = empty_fun\n",
    "        \n",
    "    def __getitem__(self, key):\n",
    "        if key in self:\n",
    "            return super().__getitem__(key)\n",
    "        else:\n",
    "            empty_val = self._empty_fun()\n",
    "            self[key] = empty_val\n",
    "            return empty_val\n",
    "\n",
    "d = DefaultDict(lambda: [])\n",
    "# d = DefaultDict(list)\n",
    "d['a'] = [2, 3]\n",
    "print(d['a'])  # ==> [2, 3]\n",
    "print(d)\n",
    "print(d['b'])  # ==> []\n",
    "print(d)\n",
    "d['b'].append(3)\n",
    "print(d['b'])  # ==> [3]"
   ]
  },
  {
   "cell_type": "code",
   "execution_count": 47,
   "metadata": {},
   "outputs": [
    {
     "name": "stdout",
     "output_type": "stream",
     "text": [
      "[2, 3]\n",
      "{'a': [2, 3]}\n",
      "[]\n",
      "{'b': [], 'a': [2, 3]}\n",
      "[3]\n"
     ]
    }
   ],
   "source": [
    "class DefaultDict(dict):\n",
    "    def __init__(self, empty_fun):\n",
    "        self._empty_fun = empty_fun\n",
    "        \n",
    "    def __getitem__(self, key):\n",
    "        try:\n",
    "            return super().__getitem__(key)\n",
    "        except KeyError:\n",
    "            empty_val = self._empty_fun()\n",
    "            self[key] = empty_val\n",
    "            return empty_val\n",
    "        \n",
    "#         if key in self:\n",
    "#             return super().__getitem__(key)\n",
    "#         else:\n",
    "#             empty_val = self._empty_fun()\n",
    "#             self[key] = empty_val\n",
    "#             return empty_val\n",
    "\n",
    "d = DefaultDict(lambda: [])\n",
    "# d = DefaultDict(list)\n",
    "d['a'] = [2, 3]\n",
    "print(d['a'])  # ==> [2, 3]\n",
    "print(d)\n",
    "print(d['b'])  # ==> []\n",
    "print(d)\n",
    "d['b'].append(3)\n",
    "print(d['b'])  # ==> [3]"
   ]
  },
  {
   "cell_type": "code",
   "execution_count": 48,
   "metadata": {},
   "outputs": [
    {
     "name": "stdout",
     "output_type": "stream",
     "text": [
      "[1, 4, 3]\n"
     ]
    }
   ],
   "source": [
    "x = [1, 2, 3]\n",
    "x[1] = 4\n",
    "print(x)"
   ]
  },
  {
   "cell_type": "code",
   "execution_count": 52,
   "metadata": {},
   "outputs": [
    {
     "ename": "TypeError",
     "evalue": "'tuple' object does not support item assignment",
     "output_type": "error",
     "traceback": [
      "Traceback \u001b[0;36m(most recent call last)\u001b[0m:\n",
      "\u001b[0;36m  File \u001b[0;32m\"<ipython-input-52-27024da01bb6>\"\u001b[0;36m, line \u001b[0;32m2\u001b[0;36m, in \u001b[0;35m<module>\u001b[0;36m\u001b[0m\n\u001b[0;31m    x[1] = 4\u001b[0m\n",
      "\u001b[0;31mTypeError\u001b[0m\u001b[0;31m:\u001b[0m 'tuple' object does not support item assignment\n"
     ]
    }
   ],
   "source": [
    "x = (1, 2, 3)\n",
    "x[1] = 4\n",
    "print(x)"
   ]
  },
  {
   "cell_type": "code",
   "execution_count": 51,
   "metadata": {},
   "outputs": [
    {
     "name": "stdout",
     "output_type": "stream",
     "text": [
      "Exception reporting mode: Plain\n",
      "Doctest mode is: ON\n"
     ]
    }
   ],
   "source": [
    "%doctest_mode"
   ]
  },
  {
   "cell_type": "code",
   "execution_count": 53,
   "metadata": {},
   "outputs": [
    {
     "ename": "TypeError",
     "evalue": "'str' object does not support item assignment",
     "output_type": "error",
     "traceback": [
      "Traceback \u001b[0;36m(most recent call last)\u001b[0m:\n",
      "\u001b[0;36m  File \u001b[0;32m\"<ipython-input-53-225102ca2ce6>\"\u001b[0;36m, line \u001b[0;32m2\u001b[0;36m, in \u001b[0;35m<module>\u001b[0;36m\u001b[0m\n\u001b[0;31m    s[1] = \"w\"\u001b[0m\n",
      "\u001b[0;31mTypeError\u001b[0m\u001b[0;31m:\u001b[0m 'str' object does not support item assignment\n"
     ]
    }
   ],
   "source": [
    "s = \"asdf\"\n",
    "s[1] = \"w\""
   ]
  },
  {
   "cell_type": "code",
   "execution_count": 62,
   "metadata": {},
   "outputs": [
    {
     "name": "stdout",
     "output_type": "stream",
     "text": [
      "(2, 3)\n"
     ]
    },
    {
     "ename": "TypeError",
     "evalue": "'StringTuple' object does not support item assignment",
     "output_type": "error",
     "traceback": [
      "Traceback \u001b[0;36m(most recent call last)\u001b[0m:\n",
      "  File \u001b[1;32m\"<ipython-input-62-ecf57af14a28>\"\u001b[0m, line \u001b[1;32m8\u001b[0m, in \u001b[1;35m<module>\u001b[0m\n    print(StringTuple((2, 3)))  # ==> ('2', '3')\n",
      "\u001b[0;36m  File \u001b[0;32m\"<ipython-input-62-ecf57af14a28>\"\u001b[0;36m, line \u001b[0;32m4\u001b[0;36m, in \u001b[0;35m__init__\u001b[0;36m\u001b[0m\n\u001b[0;31m    self[0] = str(self[0])\u001b[0m\n",
      "\u001b[0;31mTypeError\u001b[0m\u001b[0;31m:\u001b[0m 'StringTuple' object does not support item assignment\n"
     ]
    }
   ],
   "source": [
    "class StringTuple(tuple):\n",
    "    def __init__(self, t):\n",
    "        print(t)\n",
    "        self[0] = str(self[0])\n",
    "        pass\n",
    "    \n",
    "        \n",
    "print(StringTuple((2, 3)))  # ==> ('2', '3')"
   ]
  },
  {
   "cell_type": "code",
   "execution_count": 65,
   "metadata": {},
   "outputs": [
    {
     "name": "stdout",
     "output_type": "stream",
     "text": [
      "__new__\n",
      "('2', '3')\n"
     ]
    }
   ],
   "source": [
    "class StringTuple(tuple):\n",
    "    def __new__(cls, value):\n",
    "        print('__new__')\n",
    "        value = map(str, value)\n",
    "        obj = super().__new__(cls, value)\n",
    "        return obj\n",
    "    \n",
    "        \n",
    "print(StringTuple((2, 3)))  # ==> ('2', '3')"
   ]
  },
  {
   "cell_type": "code",
   "execution_count": 69,
   "metadata": {},
   "outputs": [
    {
     "name": "stdout",
     "output_type": "stream",
     "text": [
      "__new__ ('ala', 124)\n",
      "__init__ ('ala', 124)\n"
     ]
    }
   ],
   "source": [
    "class Test:\n",
    "    def __new__(cls, *args):\n",
    "        print('__new__', args)\n",
    "        obj = super().__new__(cls)\n",
    "        obj.new_attr = \"test\"\n",
    "        return obj\n",
    "    \n",
    "    def __init__(self, *args):\n",
    "        print('__init__', args)\n",
    "        self.args = args\n",
    "        \n",
    "t = Test('ala', 124)"
   ]
  },
  {
   "cell_type": "code",
   "execution_count": 67,
   "metadata": {},
   "outputs": [
    {
     "data": {
      "text/plain": [
       "'test'"
      ]
     },
     "execution_count": 67,
     "metadata": {},
     "output_type": "execute_result"
    }
   ],
   "source": [
    "t.new_attr"
   ]
  },
  {
   "cell_type": "code",
   "execution_count": 68,
   "metadata": {},
   "outputs": [
    {
     "data": {
      "text/plain": [
       "('ala', 124)"
      ]
     },
     "execution_count": 68,
     "metadata": {},
     "output_type": "execute_result"
    }
   ],
   "source": [
    "t.args"
   ]
  },
  {
   "cell_type": "code",
   "execution_count": 72,
   "metadata": {},
   "outputs": [
    {
     "name": "stdout",
     "output_type": "stream",
     "text": [
      "asdf\n",
      "asdf [1, 2, 3]\n"
     ]
    }
   ],
   "source": [
    "class MetaString(str):\n",
    "    def __new__(cls, text, meta):\n",
    "        obj = super().__new__(cls, text)\n",
    "        obj.meta = meta\n",
    "        return obj\n",
    "        \n",
    "metastring = MetaString(\"asdf\", [1, 2, 3])\n",
    "print(metastring)  # ==> 'asdf'\n",
    "print(metastring, metastring.meta)  # ==> 'asdf', [1, 2, 3]"
   ]
  },
  {
   "cell_type": "code",
   "execution_count": 78,
   "metadata": {},
   "outputs": [
    {
     "name": "stdout",
     "output_type": "stream",
     "text": [
      "blah\n"
     ]
    }
   ],
   "source": [
    "import abc\n",
    "\n",
    "class OutputStream(abc.ABC):\n",
    "    @abc.abstractmethod\n",
    "    def write(self, text):\n",
    "        pass\n",
    "    \n",
    "    \n",
    "class StdOutputStream(OutputStream):\n",
    "    def write(self, text):\n",
    "        print(text)\n",
    "        \n",
    "        \n",
    "class FileOutputStream(OutputStream):\n",
    "    def __init__(self, filename):\n",
    "        self.s = open(filename, 'w')\n",
    "        \n",
    "    def write(self, text):\n",
    "        self.s.write(text)\n",
    "        \n",
    "\n",
    "std_out = StdOutputStream()\n",
    "file_out = FileOutputStream('file.txt')\n",
    "std_out.write('blah')\n",
    "file_out.write('blah')"
   ]
  },
  {
   "cell_type": "code",
   "execution_count": 79,
   "metadata": {},
   "outputs": [
    {
     "ename": "TypeError",
     "evalue": "Can't instantiate abstract class OtherStream with abstract methods write",
     "output_type": "error",
     "traceback": [
      "Traceback \u001b[0;36m(most recent call last)\u001b[0m:\n",
      "\u001b[0;36m  File \u001b[0;32m\"<ipython-input-79-b32eb07a72d8>\"\u001b[0;36m, line \u001b[0;32m4\u001b[0;36m, in \u001b[0;35m<module>\u001b[0;36m\u001b[0m\n\u001b[0;31m    s = OtherStream()\u001b[0m\n",
      "\u001b[0;31mTypeError\u001b[0m\u001b[0;31m:\u001b[0m Can't instantiate abstract class OtherStream with abstract methods write\n"
     ]
    }
   ],
   "source": [
    "class OtherStream(OutputStream):\n",
    "    pass\n",
    "\n",
    "s = OtherStream()"
   ]
  },
  {
   "cell_type": "code",
   "execution_count": 80,
   "metadata": {
    "collapsed": true
   },
   "outputs": [],
   "source": [
    "import collections.abc"
   ]
  },
  {
   "cell_type": "code",
   "execution_count": 81,
   "metadata": {
    "collapsed": true
   },
   "outputs": [],
   "source": [
    "collections.abc.Mapping??"
   ]
  },
  {
   "cell_type": "code",
   "execution_count": 82,
   "metadata": {
    "collapsed": true
   },
   "outputs": [],
   "source": [
    "class Record:\n",
    "    pass\n",
    "\n",
    "Record.attr = 2"
   ]
  },
  {
   "cell_type": "code",
   "execution_count": 83,
   "metadata": {
    "collapsed": true
   },
   "outputs": [],
   "source": [
    "class Record:\n",
    "    attr = 2"
   ]
  },
  {
   "cell_type": "markdown",
   "metadata": {},
   "source": [
    "# Dziedziczenie wielokrotne"
   ]
  },
  {
   "cell_type": "code",
   "execution_count": 87,
   "metadata": {
    "collapsed": true
   },
   "outputs": [],
   "source": [
    "class A:\n",
    "    def __init__(self):\n",
    "        print('A')\n",
    "        \n",
    "class B(A):\n",
    "    def __init__(self):\n",
    "        A.__init__(self)\n",
    "        print('B')\n",
    "        \n",
    "class C(A):\n",
    "    def __init__(self):\n",
    "        A.__init__(self)\n",
    "        print('C')\n",
    "        \n",
    "class D(B, C):\n",
    "    def __init__(self):\n",
    "        B.__init__(self)\n",
    "        C.__init__(self)\n",
    "        print('D')\n"
   ]
  },
  {
   "cell_type": "code",
   "execution_count": 88,
   "metadata": {},
   "outputs": [
    {
     "name": "stdout",
     "output_type": "stream",
     "text": [
      "A\n",
      "B\n",
      "A\n",
      "C\n",
      "D\n"
     ]
    }
   ],
   "source": [
    "d = D()"
   ]
  },
  {
   "cell_type": "code",
   "execution_count": 94,
   "metadata": {},
   "outputs": [
    {
     "name": "stdout",
     "output_type": "stream",
     "text": [
      "A\n",
      "C\n",
      "B\n",
      "D\n"
     ]
    }
   ],
   "source": [
    "class A:\n",
    "    def __init__(self):\n",
    "        print('A')\n",
    "        \n",
    "class B(A):\n",
    "    def __init__(self):\n",
    "        super().__init__()\n",
    "        print('B')\n",
    "        \n",
    "class C(A):\n",
    "    def __init__(self):\n",
    "        super().__init__()\n",
    "        print('C')\n",
    "        \n",
    "class D(B, C):\n",
    "    def __init__(self):\n",
    "        super().__init__()\n",
    "        print('D')\n",
    "        \n",
    "d = D()"
   ]
  },
  {
   "cell_type": "code",
   "execution_count": 93,
   "metadata": {},
   "outputs": [
    {
     "data": {
      "text/plain": [
       "(<class '__main__.D'>, <class '__main__.B'>, <class '__main__.C'>, <class '__main__.A'>, <class 'object'>)"
      ]
     },
     "execution_count": 93,
     "metadata": {},
     "output_type": "execute_result"
    }
   ],
   "source": [
    "D.__mro__"
   ]
  },
  {
   "cell_type": "code",
   "execution_count": null,
   "metadata": {
    "collapsed": true
   },
   "outputs": [],
   "source": [
    "class A:\n",
    "    def __init__(self):\n",
    "        print('A')\n",
    "        \n",
    "class B(A):\n",
    "    def __init__(self):\n",
    "#         super().__init__()\n",
    "        print('B')\n",
    "        \n",
    "class C(A):\n",
    "    def __init__(self):\n",
    "        super().__init__()\n",
    "        print('C')\n",
    "        \n",
    "class D(B, C):\n",
    "    def __init__(self):\n",
    "        super().__init__()\n",
    "        print('D')\n",
    "        \n",
    "d = D()"
   ]
  },
  {
   "cell_type": "code",
   "execution_count": 96,
   "metadata": {},
   "outputs": [
    {
     "data": {
      "text/plain": [
       "(<class '__main__.B'>, <class '__main__.A'>, <class 'object'>)"
      ]
     },
     "execution_count": 96,
     "metadata": {},
     "output_type": "execute_result"
    }
   ],
   "source": [
    "B.__mro__"
   ]
  },
  {
   "cell_type": "code",
   "execution_count": 97,
   "metadata": {},
   "outputs": [
    {
     "ename": "TypeError",
     "evalue": "Cannot create a consistent method resolution\norder (MRO) for bases B, A",
     "output_type": "error",
     "traceback": [
      "Traceback \u001b[0;36m(most recent call last)\u001b[0m:\n",
      "\u001b[0;36m  File \u001b[0;32m\"<ipython-input-97-564ca96c93e8>\"\u001b[0;36m, line \u001b[0;32m5\u001b[0;36m, in \u001b[0;35m<module>\u001b[0;36m\u001b[0m\n\u001b[0;31m    class E(C, D): pass\u001b[0m\n",
      "\u001b[0;31mTypeError\u001b[0m\u001b[0;31m:\u001b[0m Cannot create a consistent method resolution\norder (MRO) for bases B, A\n"
     ]
    }
   ],
   "source": [
    "class A: pass\n",
    "class B: pass\n",
    "class C(A, B): pass\n",
    "class D(B, A): pass\n",
    "class E(C, D): pass"
   ]
  },
  {
   "cell_type": "markdown",
   "metadata": {},
   "source": [
    "# Klasy domieszkowe (mixins)"
   ]
  },
  {
   "cell_type": "code",
   "execution_count": 103,
   "metadata": {
    "collapsed": true
   },
   "outputs": [],
   "source": [
    "class Foo:\n",
    "    def __init__(self):\n",
    "        self.list = ['a', 'b', 'c']\n",
    "        \n",
    "    def __len__(self):\n",
    "        return len(self.list)\n",
    "    \n",
    "    def __getitem__(self, index):\n",
    "        return self.list[index]\n",
    "    "
   ]
  },
  {
   "cell_type": "code",
   "execution_count": 104,
   "metadata": {},
   "outputs": [
    {
     "name": "stdout",
     "output_type": "stream",
     "text": [
      "a\n",
      "b\n",
      "c\n"
     ]
    }
   ],
   "source": [
    "f = Foo()\n",
    "for i in f:\n",
    "    print(i)"
   ]
  },
  {
   "cell_type": "code",
   "execution_count": 102,
   "metadata": {
    "collapsed": true
   },
   "outputs": [],
   "source": [
    "class IterableMixin:\n",
    "    def __len__(self):\n",
    "        return len(self.list)\n",
    "    \n",
    "    def __getitem__(self, index):\n",
    "        return self.list[index]"
   ]
  },
  {
   "cell_type": "code",
   "execution_count": 105,
   "metadata": {},
   "outputs": [
    {
     "name": "stdout",
     "output_type": "stream",
     "text": [
      "a\n",
      "b\n",
      "c\n"
     ]
    }
   ],
   "source": [
    "class Foo(IterableMixin):\n",
    "    def __init__(self):\n",
    "        self.list = ['a', 'b', 'c']\n",
    "    \n",
    "    \n",
    "f = Foo()\n",
    "for i in f:\n",
    "    print(i)"
   ]
  },
  {
   "cell_type": "code",
   "execution_count": 106,
   "metadata": {
    "collapsed": true
   },
   "outputs": [],
   "source": [
    "m = IterableMixin()"
   ]
  },
  {
   "cell_type": "code",
   "execution_count": 107,
   "metadata": {},
   "outputs": [
    {
     "ename": "AttributeError",
     "evalue": "'IterableMixin' object has no attribute 'list'",
     "output_type": "error",
     "traceback": [
      "Traceback \u001b[0;36m(most recent call last)\u001b[0m:\n",
      "  File \u001b[1;32m\"<ipython-input-107-31c0f2e6f20c>\"\u001b[0m, line \u001b[1;32m1\u001b[0m, in \u001b[1;35m<module>\u001b[0m\n    len(m)\n",
      "\u001b[0;36m  File \u001b[0;32m\"<ipython-input-102-736c8b50282a>\"\u001b[0;36m, line \u001b[0;32m3\u001b[0;36m, in \u001b[0;35m__len__\u001b[0;36m\u001b[0m\n\u001b[0;31m    return len(self.list)\u001b[0m\n",
      "\u001b[0;31mAttributeError\u001b[0m\u001b[0;31m:\u001b[0m 'IterableMixin' object has no attribute 'list'\n"
     ]
    }
   ],
   "source": [
    "len(m)"
   ]
  },
  {
   "cell_type": "markdown",
   "metadata": {},
   "source": [
    "## Ćwiczenie"
   ]
  },
  {
   "cell_type": "code",
   "execution_count": 108,
   "metadata": {
    "collapsed": true
   },
   "outputs": [],
   "source": [
    "class Comparable:\n",
    "    def __eq__(self, other):\n",
    "        print('__eq__')\n",
    "        return super().__eq__(other)\n",
    "    \n",
    "    def __ne__(self, other):\n",
    "        print('__ne__')\n",
    "        return super().__ne__(other)\n",
    "    "
   ]
  },
  {
   "cell_type": "code",
   "execution_count": 112,
   "metadata": {},
   "outputs": [
    {
     "name": "stdout",
     "output_type": "stream",
     "text": [
      "__eq__\n",
      "__eq__\n"
     ]
    },
    {
     "data": {
      "text/plain": [
       "False"
      ]
     },
     "execution_count": 112,
     "metadata": {},
     "output_type": "execute_result"
    }
   ],
   "source": [
    "c1 = Comparable()\n",
    "c2 = Comparable()\n",
    "c1 == c2"
   ]
  },
  {
   "cell_type": "code",
   "execution_count": 113,
   "metadata": {},
   "outputs": [
    {
     "name": "stdout",
     "output_type": "stream",
     "text": [
      "__eq__\n",
      "NotImplemented\n",
      "__eq__\n",
      "NotImplemented\n"
     ]
    }
   ],
   "source": [
    "print(c1.__eq__(c2))\n",
    "print(c2.__eq__(c1))"
   ]
  },
  {
   "cell_type": "code",
   "execution_count": 110,
   "metadata": {},
   "outputs": [
    {
     "name": "stdout",
     "output_type": "stream",
     "text": [
      "__ne__\n",
      "__eq__\n",
      "__ne__\n",
      "__eq__\n"
     ]
    },
    {
     "data": {
      "text/plain": [
       "True"
      ]
     },
     "execution_count": 110,
     "metadata": {},
     "output_type": "execute_result"
    }
   ],
   "source": [
    "c1 != c2"
   ]
  },
  {
   "cell_type": "code",
   "execution_count": 114,
   "metadata": {},
   "outputs": [
    {
     "name": "stdout",
     "output_type": "stream",
     "text": [
      "__ne__\n",
      "__eq__\n",
      "NotImplemented\n",
      "__eq__\n",
      "NotImplemented\n",
      "__ne__\n",
      "__eq__\n",
      "NotImplemented\n",
      "__eq__\n",
      "NotImplemented\n"
     ]
    }
   ],
   "source": [
    "print(c1.__ne__(c2))\n",
    "print(c1.__eq__(c2))\n",
    "print(c2.__ne__(c1))\n",
    "print(c2.__eq__(c1))"
   ]
  },
  {
   "cell_type": "code",
   "execution_count": 115,
   "metadata": {},
   "outputs": [
    {
     "data": {
      "text/plain": [
       "True"
      ]
     },
     "execution_count": 115,
     "metadata": {},
     "output_type": "execute_result"
    }
   ],
   "source": [
    "2 < 3"
   ]
  },
  {
   "cell_type": "code",
   "execution_count": 116,
   "metadata": {},
   "outputs": [
    {
     "data": {
      "text/plain": [
       "True"
      ]
     },
     "execution_count": 116,
     "metadata": {},
     "output_type": "execute_result"
    }
   ],
   "source": [
    "'asdf' < 'qwer'"
   ]
  },
  {
   "cell_type": "code",
   "execution_count": 117,
   "metadata": {},
   "outputs": [
    {
     "data": {
      "text/plain": [
       "False"
      ]
     },
     "execution_count": 117,
     "metadata": {},
     "output_type": "execute_result"
    }
   ],
   "source": [
    "(3, 4) < (3, 2)"
   ]
  },
  {
   "cell_type": "code",
   "execution_count": 118,
   "metadata": {
    "collapsed": true
   },
   "outputs": [],
   "source": [
    "# < __lt__\n",
    "# <= __le__\n",
    "# > __gt__\n",
    "# >= __ge__"
   ]
  },
  {
   "cell_type": "raw",
   "metadata": {},
   "source": [
    "<= ==\n",
    "> < >= != \n",
    "\n",
    "a > b <==> not (a <= b)\n",
    "a < b <==> (a <= b) and not (a == b)\n",
    "a >= b <==> not (a <= b) or (a == b)\n",
    "a != b <==> not (a == b)"
   ]
  },
  {
   "cell_type": "code",
   "execution_count": null,
   "metadata": {
    "collapsed": true
   },
   "outputs": [],
   "source": [
    "class ComparableMixin:\n",
    "    def __gt__(?):\n",
    "        ?\n",
    "        \n",
    "    def __lt__(?):\n",
    "        ?\n",
    "        \n",
    "    def __ge__(?):\n",
    "        ?\n",
    "        \n",
    "    def __ne__(?):\n",
    "        ?\n",
    "    \n",
    "    \n",
    "class Point(ComparableMixin):\n",
    "    def __init__(self, x, y):\n",
    "        self.x = x\n",
    "        self.y = y\n",
    "        \n",
    "    # trzeba zdefiniowac metody specjalne: <= ==\n",
    "    \n",
    "p1 = Point(0, 0)\n",
    "p2 = Point(2, 0)\n",
    "p3 = Point(0, 3)\n",
    "p4 = Point(2, 3)\n",
    "p5 = Point(2, 3)\n",
    "print(p1 < p2 < p3 < p4)  # ==> True\n",
    "print(p5 == p4)  # ==> True\n",
    "print(p3 != p4)  # ==> True\n",
    "print(p5 >= p4)  # ==> True"
   ]
  }
 ],
 "metadata": {
  "kernelspec": {
   "display_name": "Python 3",
   "language": "python",
   "name": "python3"
  },
  "language_info": {
   "codemirror_mode": {
    "name": "ipython",
    "version": 3
   },
   "file_extension": ".py",
   "mimetype": "text/x-python",
   "name": "python",
   "nbconvert_exporter": "python",
   "pygments_lexer": "ipython3",
   "version": "3.5.2+"
  }
 },
 "nbformat": 4,
 "nbformat_minor": 2
}
