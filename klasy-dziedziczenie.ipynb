{
 "cells": [
  {
   "cell_type": "code",
   "execution_count": 17,
   "metadata": {
    "collapsed": true
   },
   "outputs": [],
   "source": [
    "class Base:\n",
    "    def base_method(self):\n",
    "        print('base')\n",
    "    \n",
    "class Derived(Base):\n",
    "    def derived_method(self):\n",
    "        print('derived')"
   ]
  },
  {
   "cell_type": "code",
   "execution_count": 35,
   "metadata": {},
   "outputs": [
    {
     "name": "stdout",
     "output_type": "stream",
     "text": [
      "derived\n",
      "base\n"
     ]
    }
   ],
   "source": [
    "d = Derived()\n",
    "d.derived_method()\n",
    "d.base_method()"
   ]
  },
  {
   "cell_type": "code",
   "execution_count": 37,
   "metadata": {},
   "outputs": [
    {
     "data": {
      "text/plain": [
       "{}"
      ]
     },
     "execution_count": 37,
     "metadata": {},
     "output_type": "execute_result"
    }
   ],
   "source": [
    "d.__dict__"
   ]
  },
  {
   "cell_type": "code",
   "execution_count": 39,
   "metadata": {},
   "outputs": [
    {
     "data": {
      "text/plain": [
       "mappingproxy({'__doc__': None,\n",
       "              '__module__': '__main__',\n",
       "              'derived_method': <function __main__.Derived.derived_method>})"
      ]
     },
     "execution_count": 39,
     "metadata": {},
     "output_type": "execute_result"
    }
   ],
   "source": [
    "Derived.__dict__"
   ]
  },
  {
   "cell_type": "code",
   "execution_count": 40,
   "metadata": {},
   "outputs": [
    {
     "data": {
      "text/plain": [
       "mappingproxy({'__dict__': <attribute '__dict__' of 'Base' objects>,\n",
       "              '__doc__': None,\n",
       "              '__module__': '__main__',\n",
       "              '__weakref__': <attribute '__weakref__' of 'Base' objects>,\n",
       "              'base_method': <function __main__.Base.base_method>})"
      ]
     },
     "execution_count": 40,
     "metadata": {},
     "output_type": "execute_result"
    }
   ],
   "source": [
    "Base.__dict__"
   ]
  },
  {
   "cell_type": "code",
   "execution_count": 19,
   "metadata": {},
   "outputs": [
    {
     "data": {
      "text/plain": [
       "(__main__.Derived, __main__.Base, object)"
      ]
     },
     "execution_count": 19,
     "metadata": {},
     "output_type": "execute_result"
    }
   ],
   "source": [
    "Derived.__mro__"
   ]
  },
  {
   "cell_type": "code",
   "execution_count": 30,
   "metadata": {},
   "outputs": [
    {
     "name": "stdout",
     "output_type": "stream",
     "text": [
      "3 4 5\n"
     ]
    }
   ],
   "source": [
    "class Point2D:\n",
    "    def __init__(self, x, y):\n",
    "        self.x = x\n",
    "        self.y = y\n",
    "        \n",
    "class Point3D(Point2D):\n",
    "    def __init__(self, x, y, z):\n",
    "        # Point2D.__init__(self, x, y)\n",
    "        # super(Point3D, self).__init__(x, y)  # Python 2\n",
    "        super().__init__(x, y)\n",
    "        self.z = z\n",
    "        \n",
    "p = Point3D(3, 4, z=5)\n",
    "print(p.x, p.y, p.z)"
   ]
  },
  {
   "cell_type": "code",
   "execution_count": 34,
   "metadata": {},
   "outputs": [
    {
     "name": "stdout",
     "output_type": "stream",
     "text": [
      "3 4 5\n"
     ]
    }
   ],
   "source": [
    "class Point2D:\n",
    "    def __init__(self, x, y):\n",
    "        self.x = x\n",
    "        self.y = y\n",
    "        \n",
    "class Point3D(Point2D):\n",
    "    def __init__(self, *args):\n",
    "        # Point2D.__init__(self, x, y)\n",
    "        # super(Point3D, self).__init__(x, y)  # Python 2\n",
    "        super().__init__(*args[:-1])\n",
    "        self.z = args[-1]\n",
    "        \n",
    "p = Point3D(3, 4, 5)\n",
    "print(p.x, p.y, p.z)"
   ]
  },
  {
   "cell_type": "code",
   "execution_count": 41,
   "metadata": {},
   "outputs": [
    {
     "name": "stdout",
     "output_type": "stream",
     "text": [
      "2\n",
      "0\n"
     ]
    }
   ],
   "source": [
    "class CountDict(dict):\n",
    "    def __getitem__(self, key):\n",
    "        if key in self:\n",
    "            return super().__getitem__(key)\n",
    "        else:\n",
    "            return 0\n",
    "        \n",
    "d = CountDict()\n",
    "d['a'] = 2\n",
    "print(d['a'])\n",
    "print(d['non-existent'])"
   ]
  },
  {
   "cell_type": "code",
   "execution_count": 46,
   "metadata": {},
   "outputs": [
    {
     "name": "stdout",
     "output_type": "stream",
     "text": [
      "[2, 3]\n",
      "{'a': [2, 3]}\n",
      "[]\n",
      "{'b': [], 'a': [2, 3]}\n",
      "[3]\n"
     ]
    }
   ],
   "source": [
    "class DefaultDict(dict):\n",
    "    def __init__(self, empty_fun):\n",
    "        self._empty_fun = empty_fun\n",
    "        \n",
    "    def __getitem__(self, key):\n",
    "        if key in self:\n",
    "            return super().__getitem__(key)\n",
    "        else:\n",
    "            empty_val = self._empty_fun()\n",
    "            self[key] = empty_val\n",
    "            return empty_val\n",
    "\n",
    "d = DefaultDict(lambda: [])\n",
    "# d = DefaultDict(list)\n",
    "d['a'] = [2, 3]\n",
    "print(d['a'])  # ==> [2, 3]\n",
    "print(d)\n",
    "print(d['b'])  # ==> []\n",
    "print(d)\n",
    "d['b'].append(3)\n",
    "print(d['b'])  # ==> [3]"
   ]
  },
  {
   "cell_type": "code",
   "execution_count": 47,
   "metadata": {},
   "outputs": [
    {
     "name": "stdout",
     "output_type": "stream",
     "text": [
      "[2, 3]\n",
      "{'a': [2, 3]}\n",
      "[]\n",
      "{'b': [], 'a': [2, 3]}\n",
      "[3]\n"
     ]
    }
   ],
   "source": [
    "class DefaultDict(dict):\n",
    "    def __init__(self, empty_fun):\n",
    "        self._empty_fun = empty_fun\n",
    "        \n",
    "    def __getitem__(self, key):\n",
    "        try:\n",
    "            return super().__getitem__(key)\n",
    "        except KeyError:\n",
    "            empty_val = self._empty_fun()\n",
    "            self[key] = empty_val\n",
    "            return empty_val\n",
    "        \n",
    "#         if key in self:\n",
    "#             return super().__getitem__(key)\n",
    "#         else:\n",
    "#             empty_val = self._empty_fun()\n",
    "#             self[key] = empty_val\n",
    "#             return empty_val\n",
    "\n",
    "d = DefaultDict(lambda: [])\n",
    "# d = DefaultDict(list)\n",
    "d['a'] = [2, 3]\n",
    "print(d['a'])  # ==> [2, 3]\n",
    "print(d)\n",
    "print(d['b'])  # ==> []\n",
    "print(d)\n",
    "d['b'].append(3)\n",
    "print(d['b'])  # ==> [3]"
   ]
  },
  {
   "cell_type": "code",
   "execution_count": 48,
   "metadata": {},
   "outputs": [
    {
     "name": "stdout",
     "output_type": "stream",
     "text": [
      "[1, 4, 3]\n"
     ]
    }
   ],
   "source": [
    "x = [1, 2, 3]\n",
    "x[1] = 4\n",
    "print(x)"
   ]
  },
  {
   "cell_type": "code",
   "execution_count": 52,
   "metadata": {},
   "outputs": [
    {
     "ename": "TypeError",
     "evalue": "'tuple' object does not support item assignment",
     "output_type": "error",
     "traceback": [
      "Traceback \u001b[0;36m(most recent call last)\u001b[0m:\n",
      "\u001b[0;36m  File \u001b[0;32m\"<ipython-input-52-27024da01bb6>\"\u001b[0;36m, line \u001b[0;32m2\u001b[0;36m, in \u001b[0;35m<module>\u001b[0;36m\u001b[0m\n\u001b[0;31m    x[1] = 4\u001b[0m\n",
      "\u001b[0;31mTypeError\u001b[0m\u001b[0;31m:\u001b[0m 'tuple' object does not support item assignment\n"
     ]
    }
   ],
   "source": [
    "x = (1, 2, 3)\n",
    "x[1] = 4\n",
    "print(x)"
   ]
  },
  {
   "cell_type": "code",
   "execution_count": 51,
   "metadata": {},
   "outputs": [
    {
     "name": "stdout",
     "output_type": "stream",
     "text": [
      "Exception reporting mode: Plain\n",
      "Doctest mode is: ON\n"
     ]
    }
   ],
   "source": [
    "%doctest_mode"
   ]
  },
  {
   "cell_type": "code",
   "execution_count": 53,
   "metadata": {},
   "outputs": [
    {
     "ename": "TypeError",
     "evalue": "'str' object does not support item assignment",
     "output_type": "error",
     "traceback": [
      "Traceback \u001b[0;36m(most recent call last)\u001b[0m:\n",
      "\u001b[0;36m  File \u001b[0;32m\"<ipython-input-53-225102ca2ce6>\"\u001b[0;36m, line \u001b[0;32m2\u001b[0;36m, in \u001b[0;35m<module>\u001b[0;36m\u001b[0m\n\u001b[0;31m    s[1] = \"w\"\u001b[0m\n",
      "\u001b[0;31mTypeError\u001b[0m\u001b[0;31m:\u001b[0m 'str' object does not support item assignment\n"
     ]
    }
   ],
   "source": [
    "s = \"asdf\"\n",
    "s[1] = \"w\""
   ]
  },
  {
   "cell_type": "code",
   "execution_count": 62,
   "metadata": {},
   "outputs": [
    {
     "name": "stdout",
     "output_type": "stream",
     "text": [
      "(2, 3)\n"
     ]
    },
    {
     "ename": "TypeError",
     "evalue": "'StringTuple' object does not support item assignment",
     "output_type": "error",
     "traceback": [
      "Traceback \u001b[0;36m(most recent call last)\u001b[0m:\n",
      "  File \u001b[1;32m\"<ipython-input-62-ecf57af14a28>\"\u001b[0m, line \u001b[1;32m8\u001b[0m, in \u001b[1;35m<module>\u001b[0m\n    print(StringTuple((2, 3)))  # ==> ('2', '3')\n",
      "\u001b[0;36m  File \u001b[0;32m\"<ipython-input-62-ecf57af14a28>\"\u001b[0;36m, line \u001b[0;32m4\u001b[0;36m, in \u001b[0;35m__init__\u001b[0;36m\u001b[0m\n\u001b[0;31m    self[0] = str(self[0])\u001b[0m\n",
      "\u001b[0;31mTypeError\u001b[0m\u001b[0;31m:\u001b[0m 'StringTuple' object does not support item assignment\n"
     ]
    }
   ],
   "source": [
    "class StringTuple(tuple):\n",
    "    def __init__(self, t):\n",
    "        print(t)\n",
    "        self[0] = str(self[0])\n",
    "        pass\n",
    "    \n",
    "        \n",
    "print(StringTuple((2, 3)))  # ==> ('2', '3')"
   ]
  },
  {
   "cell_type": "code",
   "execution_count": 65,
   "metadata": {},
   "outputs": [
    {
     "name": "stdout",
     "output_type": "stream",
     "text": [
      "__new__\n",
      "('2', '3')\n"
     ]
    }
   ],
   "source": [
    "class StringTuple(tuple):\n",
    "    def __new__(cls, value):\n",
    "        print('__new__')\n",
    "        value = map(str, value)\n",
    "        obj = super().__new__(cls, value)\n",
    "        return obj\n",
    "    \n",
    "        \n",
    "print(StringTuple((2, 3)))  # ==> ('2', '3')"
   ]
  },
  {
   "cell_type": "code",
   "execution_count": 69,
   "metadata": {},
   "outputs": [
    {
     "name": "stdout",
     "output_type": "stream",
     "text": [
      "__new__ ('ala', 124)\n",
      "__init__ ('ala', 124)\n"
     ]
    }
   ],
   "source": [
    "class Test:\n",
    "    def __new__(cls, *args):\n",
    "        print('__new__', args)\n",
    "        obj = super().__new__(cls)\n",
    "        obj.new_attr = \"test\"\n",
    "        return obj\n",
    "    \n",
    "    def __init__(self, *args):\n",
    "        print('__init__', args)\n",
    "        self.args = args\n",
    "        \n",
    "t = Test('ala', 124)"
   ]
  },
  {
   "cell_type": "code",
   "execution_count": 67,
   "metadata": {},
   "outputs": [
    {
     "data": {
      "text/plain": [
       "'test'"
      ]
     },
     "execution_count": 67,
     "metadata": {},
     "output_type": "execute_result"
    }
   ],
   "source": [
    "t.new_attr"
   ]
  },
  {
   "cell_type": "code",
   "execution_count": 68,
   "metadata": {},
   "outputs": [
    {
     "data": {
      "text/plain": [
       "('ala', 124)"
      ]
     },
     "execution_count": 68,
     "metadata": {},
     "output_type": "execute_result"
    }
   ],
   "source": [
    "t.args"
   ]
  },
  {
   "cell_type": "code",
   "execution_count": 72,
   "metadata": {},
   "outputs": [
    {
     "name": "stdout",
     "output_type": "stream",
     "text": [
      "asdf\n",
      "asdf [1, 2, 3]\n"
     ]
    }
   ],
   "source": [
    "class MetaString(str):\n",
    "    def __new__(cls, text, meta):\n",
    "        obj = super().__new__(cls, text)\n",
    "        obj.meta = meta\n",
    "        return obj\n",
    "        \n",
    "metastring = MetaString(\"asdf\", [1, 2, 3])\n",
    "print(metastring)  # ==> 'asdf'\n",
    "print(metastring, metastring.meta)  # ==> 'asdf', [1, 2, 3]"
   ]
  },
  {
   "cell_type": "code",
   "execution_count": 78,
   "metadata": {},
   "outputs": [
    {
     "name": "stdout",
     "output_type": "stream",
     "text": [
      "blah\n"
     ]
    }
   ],
   "source": [
    "import abc\n",
    "\n",
    "class OutputStream(abc.ABC):\n",
    "    @abc.abstractmethod\n",
    "    def write(self, text):\n",
    "        pass\n",
    "    \n",
    "    \n",
    "class StdOutputStream(OutputStream):\n",
    "    def write(self, text):\n",
    "        print(text)\n",
    "        \n",
    "        \n",
    "class FileOutputStream(OutputStream):\n",
    "    def __init__(self, filename):\n",
    "        self.s = open(filename, 'w')\n",
    "        \n",
    "    def write(self, text):\n",
    "        self.s.write(text)\n",
    "        \n",
    "\n",
    "std_out = StdOutputStream()\n",
    "file_out = FileOutputStream('file.txt')\n",
    "std_out.write('blah')\n",
    "file_out.write('blah')"
   ]
  },
  {
   "cell_type": "code",
   "execution_count": 79,
   "metadata": {},
   "outputs": [
    {
     "ename": "TypeError",
     "evalue": "Can't instantiate abstract class OtherStream with abstract methods write",
     "output_type": "error",
     "traceback": [
      "Traceback \u001b[0;36m(most recent call last)\u001b[0m:\n",
      "\u001b[0;36m  File \u001b[0;32m\"<ipython-input-79-b32eb07a72d8>\"\u001b[0;36m, line \u001b[0;32m4\u001b[0;36m, in \u001b[0;35m<module>\u001b[0;36m\u001b[0m\n\u001b[0;31m    s = OtherStream()\u001b[0m\n",
      "\u001b[0;31mTypeError\u001b[0m\u001b[0;31m:\u001b[0m Can't instantiate abstract class OtherStream with abstract methods write\n"
     ]
    }
   ],
   "source": [
    "class OtherStream(OutputStream):\n",
    "    pass\n",
    "\n",
    "s = OtherStream()"
   ]
  },
  {
   "cell_type": "code",
   "execution_count": 80,
   "metadata": {
    "collapsed": true
   },
   "outputs": [],
   "source": [
    "import collections.abc"
   ]
  },
  {
   "cell_type": "code",
   "execution_count": 81,
   "metadata": {
    "collapsed": true
   },
   "outputs": [],
   "source": [
    "collections.abc.Mapping??"
   ]
  },
  {
   "cell_type": "code",
   "execution_count": 82,
   "metadata": {
    "collapsed": true
   },
   "outputs": [],
   "source": [
    "class Record:\n",
    "    pass\n",
    "\n",
    "Record.attr = 2"
   ]
  },
  {
   "cell_type": "code",
   "execution_count": 83,
   "metadata": {
    "collapsed": true
   },
   "outputs": [],
   "source": [
    "class Record:\n",
    "    attr = 2"
   ]
  },
  {
   "cell_type": "code",
   "execution_count": null,
   "metadata": {
    "collapsed": true
   },
   "outputs": [],
   "source": []
  }
 ],
 "metadata": {
  "kernelspec": {
   "display_name": "Python 3",
   "language": "python",
   "name": "python3"
  },
  "language_info": {
   "codemirror_mode": {
    "name": "ipython",
    "version": 3
   },
   "file_extension": ".py",
   "mimetype": "text/x-python",
   "name": "python",
   "nbconvert_exporter": "python",
   "pygments_lexer": "ipython3",
   "version": "3.5.2+"
  }
 },
 "nbformat": 4,
 "nbformat_minor": 2
}
