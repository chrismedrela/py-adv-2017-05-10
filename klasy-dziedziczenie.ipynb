{
 "cells": [
  {
   "cell_type": "code",
   "execution_count": 17,
   "metadata": {
    "collapsed": true
   },
   "outputs": [],
   "source": [
    "class Base:\n",
    "    def base_method(self):\n",
    "        print('base')\n",
    "    \n",
    "class Derived(Base):\n",
    "    def derived_method(self):\n",
    "        print('derived')"
   ]
  },
  {
   "cell_type": "code",
   "execution_count": 35,
   "metadata": {},
   "outputs": [
    {
     "name": "stdout",
     "output_type": "stream",
     "text": [
      "derived\n",
      "base\n"
     ]
    }
   ],
   "source": [
    "d = Derived()\n",
    "d.derived_method()\n",
    "d.base_method()"
   ]
  },
  {
   "cell_type": "code",
   "execution_count": 37,
   "metadata": {},
   "outputs": [
    {
     "data": {
      "text/plain": [
       "{}"
      ]
     },
     "execution_count": 37,
     "metadata": {},
     "output_type": "execute_result"
    }
   ],
   "source": [
    "d.__dict__"
   ]
  },
  {
   "cell_type": "code",
   "execution_count": 39,
   "metadata": {},
   "outputs": [
    {
     "data": {
      "text/plain": [
       "mappingproxy({'__doc__': None,\n",
       "              '__module__': '__main__',\n",
       "              'derived_method': <function __main__.Derived.derived_method>})"
      ]
     },
     "execution_count": 39,
     "metadata": {},
     "output_type": "execute_result"
    }
   ],
   "source": [
    "Derived.__dict__"
   ]
  },
  {
   "cell_type": "code",
   "execution_count": 40,
   "metadata": {},
   "outputs": [
    {
     "data": {
      "text/plain": [
       "mappingproxy({'__dict__': <attribute '__dict__' of 'Base' objects>,\n",
       "              '__doc__': None,\n",
       "              '__module__': '__main__',\n",
       "              '__weakref__': <attribute '__weakref__' of 'Base' objects>,\n",
       "              'base_method': <function __main__.Base.base_method>})"
      ]
     },
     "execution_count": 40,
     "metadata": {},
     "output_type": "execute_result"
    }
   ],
   "source": [
    "Base.__dict__"
   ]
  },
  {
   "cell_type": "code",
   "execution_count": 19,
   "metadata": {},
   "outputs": [
    {
     "data": {
      "text/plain": [
       "(__main__.Derived, __main__.Base, object)"
      ]
     },
     "execution_count": 19,
     "metadata": {},
     "output_type": "execute_result"
    }
   ],
   "source": [
    "Derived.__mro__"
   ]
  },
  {
   "cell_type": "code",
   "execution_count": 30,
   "metadata": {},
   "outputs": [
    {
     "name": "stdout",
     "output_type": "stream",
     "text": [
      "3 4 5\n"
     ]
    }
   ],
   "source": [
    "class Point2D:\n",
    "    def __init__(self, x, y):\n",
    "        self.x = x\n",
    "        self.y = y\n",
    "        \n",
    "class Point3D(Point2D):\n",
    "    def __init__(self, x, y, z):\n",
    "        # Point2D.__init__(self, x, y)\n",
    "        # super(Point3D, self).__init__(x, y)  # Python 2\n",
    "        super().__init__(x, y)\n",
    "        self.z = z\n",
    "        \n",
    "p = Point3D(3, 4, z=5)\n",
    "print(p.x, p.y, p.z)"
   ]
  },
  {
   "cell_type": "code",
   "execution_count": 34,
   "metadata": {},
   "outputs": [
    {
     "name": "stdout",
     "output_type": "stream",
     "text": [
      "3 4 5\n"
     ]
    }
   ],
   "source": [
    "class Point2D:\n",
    "    def __init__(self, x, y):\n",
    "        self.x = x\n",
    "        self.y = y\n",
    "        \n",
    "class Point3D(Point2D):\n",
    "    def __init__(self, *args):\n",
    "        # Point2D.__init__(self, x, y)\n",
    "        # super(Point3D, self).__init__(x, y)  # Python 2\n",
    "        super().__init__(*args[:-1])\n",
    "        self.z = args[-1]\n",
    "        \n",
    "p = Point3D(3, 4, 5)\n",
    "print(p.x, p.y, p.z)"
   ]
  },
  {
   "cell_type": "code",
   "execution_count": 41,
   "metadata": {},
   "outputs": [
    {
     "name": "stdout",
     "output_type": "stream",
     "text": [
      "2\n",
      "0\n"
     ]
    }
   ],
   "source": [
    "class CountDict(dict):\n",
    "    def __getitem__(self, key):\n",
    "        if key in self:\n",
    "            return super().__getitem__(key)\n",
    "        else:\n",
    "            return 0\n",
    "        \n",
    "d = CountDict()\n",
    "d['a'] = 2\n",
    "print(d['a'])\n",
    "print(d['non-existent'])"
   ]
  },
  {
   "cell_type": "code",
   "execution_count": null,
   "metadata": {
    "collapsed": true
   },
   "outputs": [],
   "source": [
    "d = DefaultDict(lambda: [])\n",
    "# d = DefaultDict(list)\n",
    "d['a'] = [2, 3]\n",
    "print(d['a'])  # ==> [2, 3]\n",
    "d['b'].append(3)\n",
    "print(d['b'])  # ==> [3]"
   ]
  }
 ],
 "metadata": {
  "kernelspec": {
   "display_name": "Python 3",
   "language": "python",
   "name": "python3"
  },
  "language_info": {
   "codemirror_mode": {
    "name": "ipython",
    "version": 3
   },
   "file_extension": ".py",
   "mimetype": "text/x-python",
   "name": "python",
   "nbconvert_exporter": "python",
   "pygments_lexer": "ipython3",
   "version": "3.5.2+"
  }
 },
 "nbformat": 4,
 "nbformat_minor": 2
}
