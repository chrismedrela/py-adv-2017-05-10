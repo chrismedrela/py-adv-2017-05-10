{
 "cells": [
  {
   "cell_type": "code",
   "execution_count": 2,
   "metadata": {},
   "outputs": [
    {
     "data": {
      "text/plain": [
       "8"
      ]
     },
     "execution_count": 2,
     "metadata": {},
     "output_type": "execute_result"
    }
   ],
   "source": [
    "(5).__add__(3)"
   ]
  },
  {
   "cell_type": "code",
   "execution_count": 3,
   "metadata": {},
   "outputs": [
    {
     "data": {
      "text/plain": [
       "8"
      ]
     },
     "execution_count": 3,
     "metadata": {},
     "output_type": "execute_result"
    }
   ],
   "source": [
    "5 + 3"
   ]
  },
  {
   "cell_type": "code",
   "execution_count": 4,
   "metadata": {
    "collapsed": true
   },
   "outputs": [],
   "source": [
    "var = 'text'\n",
    "var = 2"
   ]
  },
  {
   "cell_type": "code",
   "execution_count": 5,
   "metadata": {},
   "outputs": [
    {
     "data": {
      "text/plain": [
       "2"
      ]
     },
     "execution_count": 5,
     "metadata": {},
     "output_type": "execute_result"
    }
   ],
   "source": [
    "x = 1\n",
    "eval('x+1')"
   ]
  },
  {
   "cell_type": "code",
   "execution_count": 6,
   "metadata": {},
   "outputs": [
    {
     "name": "stdout",
     "output_type": "stream",
     "text": [
      "x+y == 5\n"
     ]
    }
   ],
   "source": [
    "x = 2\n",
    "y = 3\n",
    "expr = 'x+y'\n",
    "print('{} == {}'.format(expr, eval(expr)))"
   ]
  },
  {
   "cell_type": "code",
   "execution_count": 12,
   "metadata": {},
   "outputs": [
    {
     "data": {
      "text/plain": [
       "'0x7f03d42753c8'"
      ]
     },
     "execution_count": 12,
     "metadata": {},
     "output_type": "execute_result"
    }
   ],
   "source": [
    "numbers = [1, 2, 3]\n",
    "hex(id(numbers))"
   ]
  },
  {
   "cell_type": "code",
   "execution_count": 8,
   "metadata": {},
   "outputs": [
    {
     "data": {
      "text/plain": [
       "list"
      ]
     },
     "execution_count": 8,
     "metadata": {},
     "output_type": "execute_result"
    }
   ],
   "source": [
    "type(numbers)"
   ]
  },
  {
   "cell_type": "code",
   "execution_count": 9,
   "metadata": {},
   "outputs": [
    {
     "data": {
      "text/plain": [
       "int"
      ]
     },
     "execution_count": 9,
     "metadata": {},
     "output_type": "execute_result"
    }
   ],
   "source": [
    "type(5)"
   ]
  },
  {
   "cell_type": "code",
   "execution_count": 10,
   "metadata": {},
   "outputs": [
    {
     "name": "stdout",
     "output_type": "stream",
     "text": [
      "[1, 2, 3]\n"
     ]
    }
   ],
   "source": [
    "print(numbers)"
   ]
  },
  {
   "cell_type": "code",
   "execution_count": 13,
   "metadata": {},
   "outputs": [
    {
     "data": {
      "text/plain": [
       "'0x562081631080'"
      ]
     },
     "execution_count": 13,
     "metadata": {},
     "output_type": "execute_result"
    }
   ],
   "source": [
    "hex(id(numbers[0]))"
   ]
  },
  {
   "cell_type": "code",
   "execution_count": 21,
   "metadata": {},
   "outputs": [
    {
     "name": "stdout",
     "output_type": "stream",
     "text": [
      "43\n",
      "43\n",
      "52\n",
      "53\n",
      "53\n",
      "53\n",
      "123\n",
      "54\n",
      "54\n",
      "139654419446752\n",
      "139654419446752\n",
      "139654419446920\n"
     ]
    }
   ],
   "source": [
    "class MyClass:\n",
    "    def __init__(self, init_foo):\n",
    "        self.foo = init_foo\n",
    "    \n",
    "    def get_foo(self):\n",
    "        return self.foo\n",
    "    \n",
    "    def inc(self):\n",
    "        self.foo += 1\n",
    "    \n",
    "c = MyClass(42)  # instancja klasy (wywolanie __init__)\n",
    "c.inc()\n",
    "print(c.get_foo())\n",
    "print(c.foo)\n",
    "\n",
    "d = MyClass(52)\n",
    "print(d.get_foo())  # 52\n",
    "d.inc()\n",
    "print(d.get_foo())  # 53\n",
    "print(MyClass.get_foo(d))\n",
    "print(d.foo)  # 53\n",
    "print(MyClass.get_foo(MyClass(123)))\n",
    "\n",
    "e = d\n",
    "e.inc()\n",
    "print(e.get_foo())  # 54\n",
    "print(e.foo)  # 54\n",
    "print(id(d))\n",
    "print(id(e))\n",
    "print(id(c))"
   ]
  },
  {
   "cell_type": "code",
   "execution_count": 23,
   "metadata": {},
   "outputs": [
    {
     "name": "stdout",
     "output_type": "stream",
     "text": [
      "Exception reporting mode: Plain\n",
      "Doctest mode is: ON\n"
     ]
    }
   ],
   "source": [
    "%doctest_mode"
   ]
  },
  {
   "cell_type": "code",
   "execution_count": 26,
   "metadata": {},
   "outputs": [
    {
     "name": "stdout",
     "output_type": "stream",
     "text": [
      "get ala\n",
      "42\n",
      "get ala\n",
      "42\n"
     ]
    }
   ],
   "source": [
    "class Record:\n",
    "    def __init__(self):\n",
    "        self._dict = {}\n",
    "        \n",
    "    def __getitem__(self, name):\n",
    "        print('get', name)\n",
    "        return self._dict[name]\n",
    "    \n",
    "r = Record()\n",
    "r._dict['ala'] = 42\n",
    "print(r['ala'])\n",
    "print(r.__getitem__('ala'))\n",
    "\n",
    "r['blb'] = 52\n",
    "del r['clc']"
   ]
  },
  {
   "cell_type": "code",
   "execution_count": 27,
   "metadata": {},
   "outputs": [
    {
     "ename": "NameError",
     "evalue": "name 'Foo' is not defined",
     "output_type": "error",
     "traceback": [
      "Traceback \u001b[0;36m(most recent call last)\u001b[0m:\n",
      "\u001b[0;36m  File \u001b[0;32m\"<ipython-input-27-cfc9ca3ccf95>\"\u001b[0;36m, line \u001b[0;32m1\u001b[0;36m, in \u001b[0;35m<module>\u001b[0;36m\u001b[0m\n\u001b[0;31m    foo = Foo()\u001b[0m\n",
      "\u001b[0;31mNameError\u001b[0m\u001b[0;31m:\u001b[0m name 'Foo' is not defined\n"
     ]
    }
   ],
   "source": [
    "foo = Foo()\n",
    "print(foo.__len__())  # 3\n",
    "print(len(foo))  # 3\n",
    "print(foo[0])  # 'a'\n",
    "print(foo[1])  # 'b'\n",
    "print(foo[2])  # 'c'"
   ]
  },
  {
   "cell_type": "code",
   "execution_count": 38,
   "metadata": {},
   "outputs": [
    {
     "name": "stdout",
     "output_type": "stream",
     "text": [
      "getattribute second_name\n",
      "getattr second_name\n",
      "unknown\n"
     ]
    }
   ],
   "source": [
    "class Person:  # to samo co class Person(object):\n",
    "    def __init__(self, first_name):\n",
    "        self.first_name = first_name\n",
    "        \n",
    "    def __getattr__(self, name):\n",
    "        print('getattr', name)\n",
    "        return 'unknown'\n",
    "        \n",
    "    def __getattribute__(self, name):\n",
    "        print('getattribute', name)\n",
    "        # return getattr(self, name)\n",
    "        return object.__getattribute__(self, name)\n",
    "\n",
    "p = Person('John')\n",
    "print(p.second_name)"
   ]
  },
  {
   "cell_type": "code",
   "execution_count": 34,
   "metadata": {},
   "outputs": [
    {
     "name": "stdout",
     "output_type": "stream",
     "text": [
      "getattribute first_name\n",
      "John\n"
     ]
    }
   ],
   "source": [
    "print(p.first_name)"
   ]
  },
  {
   "cell_type": "code",
   "execution_count": 39,
   "metadata": {
    "collapsed": true
   },
   "outputs": [],
   "source": [
    "# p[key]  # getitem\n",
    "# p.key  # getattr"
   ]
  },
  {
   "cell_type": "code",
   "execution_count": 40,
   "metadata": {},
   "outputs": [
    {
     "data": {
      "text/plain": [
       "(<class 'object'>,)"
      ]
     },
     "execution_count": 40,
     "metadata": {},
     "output_type": "execute_result"
    }
   ],
   "source": [
    "Person.__bases__"
   ]
  },
  {
   "cell_type": "code",
   "execution_count": 42,
   "metadata": {},
   "outputs": [
    {
     "name": "stdout",
     "output_type": "stream",
     "text": [
      ">>> 2+2\n"
     ]
    }
   ],
   "source": [
    "class PrefixedPrint:\n",
    "    def __init__(self, prefix):\n",
    "        self.prefix = prefix\n",
    "        \n",
    "    def __call__(self, text):\n",
    "        print(self.prefix, text)\n",
    "        \n",
    "p = PrefixedPrint('>>>')\n",
    "p('2+2')"
   ]
  },
  {
   "cell_type": "code",
   "execution_count": 43,
   "metadata": {},
   "outputs": [
    {
     "data": {
      "text/plain": [
       "110"
      ]
     },
     "execution_count": 43,
     "metadata": {},
     "output_type": "execute_result"
    }
   ],
   "source": [
    "def generate_adder(a):\n",
    "    def adder(b):\n",
    "        return a + b\n",
    "    return adder\n",
    "\n",
    "add_10 = generate_adder(10)\n",
    "add_10(100)"
   ]
  },
  {
   "cell_type": "code",
   "execution_count": 45,
   "metadata": {},
   "outputs": [
    {
     "data": {
      "text/plain": [
       "110"
      ]
     },
     "execution_count": 45,
     "metadata": {},
     "output_type": "execute_result"
    }
   ],
   "source": [
    "class Adder:\n",
    "    def __init__(self, a):\n",
    "        self.a = a\n",
    "        \n",
    "    def __call__(self, b):\n",
    "        return self.a + b\n",
    "\n",
    "add_10 = Adder(10)\n",
    "add_10(100)"
   ]
  },
  {
   "cell_type": "code",
   "execution_count": 54,
   "metadata": {},
   "outputs": [
    {
     "name": "stdout",
     "output_type": "stream",
     "text": [
      "927 ms ± 19.1 ms per loop (mean ± std. dev. of 7 runs, 1 loop each)\n"
     ]
    }
   ],
   "source": [
    "%timeit fib(30)"
   ]
  },
  {
   "cell_type": "code",
   "execution_count": 55,
   "metadata": {
    "collapsed": true
   },
   "outputs": [],
   "source": [
    "%timeit?"
   ]
  },
  {
   "cell_type": "code",
   "execution_count": 58,
   "metadata": {},
   "outputs": [
    {
     "name": "stdout",
     "output_type": "stream",
     "text": [
      "2.01 µs ± 188 ns per loop (mean ± std. dev. of 7 runs, 1000 loops each)\n"
     ]
    }
   ],
   "source": [
    "%timeit -n 1000 fib(3)"
   ]
  },
  {
   "cell_type": "code",
   "execution_count": 59,
   "metadata": {
    "collapsed": true
   },
   "outputs": [],
   "source": [
    "import timeit"
   ]
  },
  {
   "cell_type": "code",
   "execution_count": 62,
   "metadata": {},
   "outputs": [
    {
     "data": {
      "text/plain": [
       "1.6446857660012029"
      ]
     },
     "execution_count": 62,
     "metadata": {},
     "output_type": "execute_result"
    }
   ],
   "source": [
    "timeit.timeit('fib(3)', globals={'fib': fib})"
   ]
  },
  {
   "cell_type": "code",
   "execution_count": 71,
   "metadata": {},
   "outputs": [
    {
     "data": {
      "text/plain": [
       "9.968000085791573e-06"
      ]
     },
     "execution_count": 71,
     "metadata": {},
     "output_type": "execute_result"
    }
   ],
   "source": [
    "t = timeit.Timer('fib(3)', globals={'fib': fib})\n",
    "t.timeit(number=1)"
   ]
  },
  {
   "cell_type": "code",
   "execution_count": 50,
   "metadata": {
    "collapsed": true
   },
   "outputs": [
    {
     "name": "stdout",
     "output_type": "stream",
     "text": [
      "fib(0) = 0\n",
      "fib(1) = 1\n",
      "fib(2) = 1\n",
      "fib(3) = 2\n",
      "fib(4) = 3\n",
      "fib(5) = 5\n",
      "fib(6) = 8\n",
      "fib(7) = 13\n",
      "fib(8) = 21\n",
      "fib(9) = 34\n"
     ]
    }
   ],
   "source": [
    "def fib(n):\n",
    "    if n == 0:\n",
    "        return 0\n",
    "    elif n == 1:\n",
    "        return 1\n",
    "    else:\n",
    "        return fib(n-2) + fib(n-1)\n",
    "\n",
    "for i in range(10):\n",
    "    print('fib({}) = {}'.format(i, fib(i)))"
   ]
  },
  {
   "cell_type": "code",
   "execution_count": 73,
   "metadata": {},
   "outputs": [
    {
     "name": "stdout",
     "output_type": "stream",
     "text": [
      "fib(0) = 0\n",
      "fib(1) = 1\n",
      "fib(2) = 1\n",
      "fib(3) = 2\n",
      "fib(4) = 3\n",
      "fib(5) = 5\n",
      "fib(6) = 8\n",
      "fib(7) = 13\n",
      "fib(8) = 21\n",
      "fib(9) = 34\n",
      "355 ns ± 24.2 ns per loop (mean ± std. dev. of 7 runs, 1000000 loops each)\n"
     ]
    }
   ],
   "source": [
    "cache = {0: 0, 1: 1}\n",
    "def fib(n):\n",
    "    if n in cache:\n",
    "        return cache[n]\n",
    "    else:\n",
    "        retval = fib(n-2) + fib(n-1)\n",
    "        cache[n] = retval\n",
    "        return retval\n",
    "\n",
    "for i in range(10):\n",
    "    print('fib({}) = {}'.format(i, fib(i)))\n",
    "    \n",
    "%timeit fib(30)"
   ]
  },
  {
   "cell_type": "code",
   "execution_count": 74,
   "metadata": {},
   "outputs": [
    {
     "name": "stdout",
     "output_type": "stream",
     "text": [
      "fib(0) = 0\n",
      "fib(1) = 1\n",
      "fib(2) = 1\n",
      "fib(3) = 2\n",
      "fib(4) = 3\n",
      "fib(5) = 5\n",
      "fib(6) = 8\n",
      "fib(7) = 13\n",
      "fib(8) = 21\n",
      "fib(9) = 34\n",
      "29.4 µs ± 2.78 µs per loop (mean ± std. dev. of 7 runs, 10000 loops each)\n"
     ]
    }
   ],
   "source": [
    "def gen_fib():\n",
    "    cache = {0: 0, 1: 1}\n",
    "    def fib(n):\n",
    "        if n in cache:\n",
    "            return cache[n]\n",
    "        else:\n",
    "            retval = fib(n-2) + fib(n-1)\n",
    "            cache[n] = retval\n",
    "            return retval\n",
    "    return fib\n",
    "\n",
    "for i in range(10):\n",
    "    print('fib({}) = {}'.format(i, fib(i)))\n",
    "    \n",
    "%timeit gen_fib()(30)"
   ]
  },
  {
   "cell_type": "code",
   "execution_count": 75,
   "metadata": {},
   "outputs": [
    {
     "data": {
      "text/plain": [
       "610"
      ]
     },
     "execution_count": 75,
     "metadata": {},
     "output_type": "execute_result"
    }
   ],
   "source": [
    "fib = gen_fib()\n",
    "fib(10)\n",
    "fib(20)\n",
    "\n",
    "fib2 = gen_fib()\n",
    "fib2(5)\n",
    "fib2(15)"
   ]
  },
  {
   "cell_type": "code",
   "execution_count": 82,
   "metadata": {},
   "outputs": [
    {
     "data": {
      "text/plain": [
       "{0: 0, 1: 1, 2: 1, 3: 2, 4: 3, 5: 5, 6: 8, 7: 13, 8: 21, 9: 34, 10: 55, 11: 89, 12: 144, 13: 233, 14: 377, 15: 610, 16: 987, 17: 1597, 18: 2584, 19: 4181, 20: 6765}"
      ]
     },
     "execution_count": 82,
     "metadata": {},
     "output_type": "execute_result"
    }
   ],
   "source": [
    "fib.__closure__[0].cell_contents"
   ]
  },
  {
   "cell_type": "code",
   "execution_count": 83,
   "metadata": {},
   "outputs": [
    {
     "data": {
      "text/plain": [
       "{0: 0, 1: 1, 2: 1, 3: 2, 4: 3, 5: 5, 6: 8, 7: 13, 8: 21, 9: 34, 10: 55, 11: 89, 12: 144, 13: 233, 14: 377, 15: 610}"
      ]
     },
     "execution_count": 83,
     "metadata": {},
     "output_type": "execute_result"
    }
   ],
   "source": [
    "fib2.__closure__[0].cell_contents"
   ]
  },
  {
   "cell_type": "code",
   "execution_count": 84,
   "metadata": {},
   "outputs": [
    {
     "ename": "NameError",
     "evalue": "name 'Fibbonacci' is not defined",
     "output_type": "error",
     "traceback": [
      "Traceback \u001b[0;36m(most recent call last)\u001b[0m:\n",
      "\u001b[0;36m  File \u001b[0;32m\"<ipython-input-84-ed94589620f2>\"\u001b[0;36m, line \u001b[0;32m1\u001b[0;36m, in \u001b[0;35m<module>\u001b[0;36m\u001b[0m\n\u001b[0;31m    fib = Fibbonacci()\u001b[0m\n",
      "\u001b[0;31mNameError\u001b[0m\u001b[0;31m:\u001b[0m name 'Fibbonacci' is not defined\n"
     ]
    }
   ],
   "source": [
    "fib = Fibbonacci()\n",
    "fib(10)\n",
    "fib(20)\n",
    "\n",
    "fib2 = Fibbonacci()\n",
    "fib2(5)\n",
    "fib2(15)"
   ]
  },
  {
   "cell_type": "code",
   "execution_count": 86,
   "metadata": {
    "collapsed": true
   },
   "outputs": [],
   "source": [
    "class BankAccount:\n",
    "    def __init__(self, initial_balance):\n",
    "        self._balance = initial_balance\n"
   ]
  },
  {
   "cell_type": "code",
   "execution_count": 87,
   "metadata": {},
   "outputs": [
    {
     "data": {
      "text/plain": [
       "1000.0"
      ]
     },
     "execution_count": 87,
     "metadata": {},
     "output_type": "execute_result"
    }
   ],
   "source": [
    "account = BankAccount(1000.0)\n",
    "account._balance"
   ]
  },
  {
   "cell_type": "code",
   "execution_count": 88,
   "metadata": {
    "collapsed": true
   },
   "outputs": [],
   "source": [
    "class BankAccount:\n",
    "    def __init__(self, owner, balance=0):\n",
    "        self._owner = owner\n",
    "        self.__balance = balance\n",
    "        \n",
    "    def withdraw(self, amount):\n",
    "        self.__balance -= amount\n",
    "        \n",
    "    def deposit(self, amount):\n",
    "        self.__balance += amount\n",
    "        \n",
    "account = BankAccount('Jan')\n",
    "account.deposit(1000)"
   ]
  },
  {
   "cell_type": "code",
   "execution_count": 92,
   "metadata": {},
   "outputs": [],
   "source": [
    "account._BankAccount__balance = 500"
   ]
  },
  {
   "cell_type": "code",
   "execution_count": 97,
   "metadata": {},
   "outputs": [
    {
     "name": "stdout",
     "output_type": "stream",
     "text": [
      "2\n",
      "2\n",
      "2\n",
      "2\n"
     ]
    }
   ],
   "source": [
    "class CountedObject:\n",
    "    count = 0\n",
    "    def __init__(self):\n",
    "        CountedObject.count += 1\n",
    "        \n",
    "    @staticmethod\n",
    "    def get_count():\n",
    "        return CountedObject.count\n",
    "    \n",
    "c1 = CountedObject()\n",
    "c2 = CountedObject()\n",
    "print(CountedObject.get_count())\n",
    "print(CountedObject.count)\n",
    "print(c1.get_count())\n",
    "print(c1.count)"
   ]
  },
  {
   "cell_type": "code",
   "execution_count": 98,
   "metadata": {},
   "outputs": [
    {
     "name": "stdout",
     "output_type": "stream",
     "text": [
      "2\n",
      "2\n"
     ]
    }
   ],
   "source": [
    "counted_object_count = 0\n",
    "\n",
    "def get_count():\n",
    "    return counted_object_count\n",
    "\n",
    "class CountedObject:\n",
    "    def __init__(self):\n",
    "        global counted_object_count\n",
    "        counted_object_count += 1\n",
    "        \n",
    "c1 = CountedObject()\n",
    "c2 = CountedObject()\n",
    "print(counted_object_count)\n",
    "print(get_count())"
   ]
  },
  {
   "cell_type": "code",
   "execution_count": 99,
   "metadata": {},
   "outputs": [
    {
     "name": "stdout",
     "output_type": "stream",
     "text": [
      "Bob\n",
      "John\n"
     ]
    }
   ],
   "source": [
    "class PersonWithDefaultAttributes:\n",
    "    first_name = 'John'\n",
    "    second_name = 'Smith'\n",
    "    phones = []\n",
    "    \n",
    "p1 = PersonWithDefaultAttributes()\n",
    "p2 = PersonWithDefaultAttributes()\n",
    "p1.first_name = 'Bob'\n",
    "print(p1.first_name)\n",
    "print(p2.first_name)"
   ]
  },
  {
   "cell_type": "code",
   "execution_count": 100,
   "metadata": {},
   "outputs": [
    {
     "name": "stdout",
     "output_type": "stream",
     "text": [
      "['12346']\n",
      "['12346']\n"
     ]
    }
   ],
   "source": [
    "p1.phones.append('12346')\n",
    "print(p1.phones)\n",
    "print(p2.phones)"
   ]
  },
  {
   "cell_type": "code",
   "execution_count": 101,
   "metadata": {},
   "outputs": [
    {
     "name": "stdout",
     "output_type": "stream",
     "text": [
      "139654420443592\n",
      "139654420443592\n"
     ]
    }
   ],
   "source": [
    "print(id(p1.phones))\n",
    "print(id(p2.phones))"
   ]
  },
  {
   "cell_type": "code",
   "execution_count": 102,
   "metadata": {},
   "outputs": [
    {
     "data": {
      "text/plain": [
       "True"
      ]
     },
     "execution_count": 102,
     "metadata": {},
     "output_type": "execute_result"
    }
   ],
   "source": [
    "p1.phones is p2.phones"
   ]
  },
  {
   "cell_type": "code",
   "execution_count": 103,
   "metadata": {},
   "outputs": [
    {
     "name": "stdout",
     "output_type": "stream",
     "text": [
      "True\n",
      "False\n"
     ]
    }
   ],
   "source": [
    "a = []\n",
    "b = []\n",
    "print(a == b)\n",
    "print(a is b)"
   ]
  },
  {
   "cell_type": "code",
   "execution_count": 104,
   "metadata": {},
   "outputs": [
    {
     "name": "stdout",
     "output_type": "stream",
     "text": [
      "<class '__main__.ClassMethodClass'> blah!\n",
      "<class '__main__.ClassMethodClass'> blah!\n"
     ]
    }
   ],
   "source": [
    "class ClassMethodClass:\n",
    "    @classmethod\n",
    "    def clsmethod(cls, message):\n",
    "        print(cls, message)\n",
    "        \n",
    "c1 = ClassMethodClass()\n",
    "c2 = ClassMethodClass()\n",
    "ClassMethodClass.clsmethod('blah!')\n",
    "c1.clsmethod('blah!')"
   ]
  },
  {
   "cell_type": "code",
   "execution_count": null,
   "metadata": {
    "collapsed": true
   },
   "outputs": [],
   "source": [
    "class Date:\n",
    "    def __init__(?):\n",
    "        ?\n",
    "        \n",
    "    @classmethod\n",
    "    ?\n",
    "\n",
    "d1 = Date(20, 1, 2016)\n",
    "d2 = Date.from_string('20-01-2016')"
   ]
  }
 ],
 "metadata": {
  "kernelspec": {
   "display_name": "Python 3",
   "language": "python",
   "name": "python3"
  },
  "language_info": {
   "codemirror_mode": {
    "name": "ipython",
    "version": 3
   },
   "file_extension": ".py",
   "mimetype": "text/x-python",
   "name": "python",
   "nbconvert_exporter": "python",
   "pygments_lexer": "ipython3",
   "version": "3.5.2+"
  }
 },
 "nbformat": 4,
 "nbformat_minor": 2
}
